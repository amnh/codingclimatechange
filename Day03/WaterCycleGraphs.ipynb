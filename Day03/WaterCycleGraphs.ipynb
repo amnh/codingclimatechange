{
 "cells": [
  {
   "cell_type": "code",
   "execution_count": null,
   "metadata": {
    "collapsed": false
   },
   "outputs": [],
   "source": [
    "%matplotlib inline\n",
    "import matplotlib.pyplot as plt\n",
    "import numpy as np\n",
    "\n",
    "#Plant\n",
    "num1 = 1\n",
    "\n",
    "#Animal\n",
    "num2 = 5\n",
    "\n",
    "#Soil\n",
    "num3 = 3\n",
    "\n",
    "#Ground Water\n",
    "num4 = 10\n",
    "\n",
    "#Lake\n",
    "num5 = 0\n",
    "\n",
    "#River\n",
    "num6 = 0\n",
    "\n",
    "#Glacier\n",
    "num7 = 0\n",
    "\n",
    "#Ocean\n",
    "num8 = 0\n",
    "\n",
    "#Clouds\n",
    "num9 = 0\n",
    "\n",
    "#define our list and its labels. You need to fill in the numbers list.\n",
    "numbers = [num1, num2, num3, num4, num5, num6, num7, num8, num9]\n",
    "cycle = [\"Plant\", \"Animal\", \"Soil\", \"Ground Water\", \"Lake\", \"River\", \"Glacier\", \"Ocean\", \"Clouds\"]\n",
    "totalSteps = sum(numbers)\n",
    "percentages = np.array(numbers)/float(totalSteps)*100\n",
    "\n",
    "print percentages"
   ]
  },
  {
   "cell_type": "code",
   "execution_count": null,
   "metadata": {
    "collapsed": false
   },
   "outputs": [],
   "source": [
    "xPos = np.arange(len(cycle))\n",
    "\n",
    "myColors = ['b', 'g', 'r', 'c', 'm', 'y', 'k', 'w', '0.5']\n",
    "    \n",
    "#make a horizontal bar graph\n",
    "plt.barh(xPos, numbers, color = myColors)\n",
    "plt.yticks(xPos, cycle)"
   ]
  },
  {
   "cell_type": "code",
   "execution_count": null,
   "metadata": {
    "collapsed": false
   },
   "outputs": [],
   "source": [
    "#now make a pie chart\n",
    "plt.pie(numbers, labels = cycle, colors=myColors)"
   ]
  },
  {
   "cell_type": "code",
   "execution_count": null,
   "metadata": {
    "collapsed": true
   },
   "outputs": [],
   "source": []
  }
 ],
 "metadata": {
  "kernelspec": {
   "display_name": "Python 2",
   "language": "python",
   "name": "python2"
  },
  "language_info": {
   "codemirror_mode": {
    "name": "ipython",
    "version": 2
   },
   "file_extension": ".py",
   "mimetype": "text/x-python",
   "name": "python",
   "nbconvert_exporter": "python",
   "pygments_lexer": "ipython2",
   "version": "2.7.11"
  }
 },
 "nbformat": 4,
 "nbformat_minor": 0
}
