{
 "cells": [
  {
   "cell_type": "code",
   "execution_count": 11,
   "metadata": {
    "collapsed": false
   },
   "outputs": [
    {
     "name": "stdout",
     "output_type": "stream",
     "text": [
      "[  5.26315789  26.31578947  15.78947368  52.63157895   0.           0.           0.\n",
      "   0.           0.        ]\n"
     ]
    }
   ],
   "source": [
    "%matplotlib inline\n",
    "import matplotlib.pyplot as plt\n",
    "import numpy as np\n",
    "\n",
    "#Plant\n",
    "num1 = 1\n",
    "\n",
    "#Animal\n",
    "num2 = 5\n",
    "\n",
    "#Soil\n",
    "num3 = 3\n",
    "\n",
    "#Ground Water\n",
    "num4 = 10\n",
    "\n",
    "#Lake\n",
    "num5 = 0\n",
    "\n",
    "#River\n",
    "num6 = 0\n",
    "\n",
    "#Glacier\n",
    "num7 = 0\n",
    "\n",
    "#Ocean\n",
    "num8 = 0\n",
    "\n",
    "#Clouds\n",
    "num9 = 0\n",
    "\n",
    "#define our list and its labels. You need to fill in the numbers list.\n",
    "numbers = [num1, num2, num3, num4, num5, num6, num7, num8, num9]\n",
    "cycle = [\"Plant\", \"Animal\", \"Soil\", \"Ground Water\", \"Lake\", \"River\", \"Glacier\", \"Ocean\", \"Clouds\"]\n",
    "totalSteps = sum(numbers)\n",
    "percentages = np.array(numbers)/float(totalSteps)*100\n",
    "\n",
    "print percentages"
   ]
  },
  {
   "cell_type": "code",
   "execution_count": 14,
   "metadata": {
    "collapsed": false
   },
   "outputs": [
    {
     "data": {
      "text/plain": [
       "([<matplotlib.axis.YTick at 0x108115cd0>,\n",
       "  <matplotlib.axis.YTick at 0x1080fea90>,\n",
       "  <matplotlib.axis.YTick at 0x10801aa10>,\n",
       "  <matplotlib.axis.YTick at 0x108a23d90>,\n",
       "  <matplotlib.axis.YTick at 0x108a31510>,\n",
       "  <matplotlib.axis.YTick at 0x108a31c50>,\n",
       "  <matplotlib.axis.YTick at 0x108a3a3d0>,\n",
       "  <matplotlib.axis.YTick at 0x108a3ab10>,\n",
       "  <matplotlib.axis.YTick at 0x108a44290>],\n",
       " <a list of 9 Text yticklabel objects>)"
      ]
     },
     "execution_count": 14,
     "metadata": {},
     "output_type": "execute_result"
    },
    {
     "data": {
      "image/png": "[encoded data removed]",
      "text/plain": [
       "<matplotlib.figure.Figure at 0x10801ab90>"
      ]
     },
     "metadata": {},
     "output_type": "display_data"
    }
   ],
   "source": [
    "xPos = np.arange(len(cycle))\n",
    "\n",
    "myColors = ['b', 'g', 'r', 'c', 'm', 'y', 'k', 'w', '0.5']\n",
    "    \n",
    "#make a horizontal bar graph\n",
    "plt.barh(xPos, numbers, color = myColors)\n",
    "plt.yticks(xPos, cycle)"
   ]
  },
  {
   "cell_type": "code",
   "execution_count": 15,
   "metadata": {
    "collapsed": false
   },
   "outputs": [
    {
     "data": {
      "text/plain": [
       "([<matplotlib.patches.Wedge at 0x108c5a250>,\n",
       "  <matplotlib.patches.Wedge at 0x108c5ac90>,\n",
       "  <matplotlib.patches.Wedge at 0x108c66650>,\n",
       "  <matplotlib.patches.Wedge at 0x108c66fd0>,\n",
       "  <matplotlib.patches.Wedge at 0x108c73990>,\n",
       "  <matplotlib.patches.Wedge at 0x108c80350>,\n",
       "  <matplotlib.patches.Wedge at 0x108c80cd0>,\n",
       "  <matplotlib.patches.Wedge at 0x108c8c690>,\n",
       "  <matplotlib.patches.Wedge at 0x108c9a050>],\n",
       " [<matplotlib.text.Text at 0x108c5a850>,\n",
       "  <matplotlib.text.Text at 0x108c66250>,\n",
       "  <matplotlib.text.Text at 0x108c66bd0>,\n",
       "  <matplotlib.text.Text at 0x108c73590>,\n",
       "  <matplotlib.text.Text at 0x108c73f10>,\n",
       "  <matplotlib.text.Text at 0x108c808d0>,\n",
       "  <matplotlib.text.Text at 0x108c8c290>,\n",
       "  <matplotlib.text.Text at 0x108c8cc10>,\n",
       "  <matplotlib.text.Text at 0x108c9a5d0>])"
      ]
     },
     "execution_count": 15,
     "metadata": {},
     "output_type": "execute_result"
    },
    {
     "data": {
      "image/png": "[encoded data removed]",
      "text/plain": [
       "<matplotlib.figure.Figure at 0x1088d7b90>"
      ]
     },
     "metadata": {},
     "output_type": "display_data"
    }
   ],
   "source": [
    "#now make a pie chart\n",
    "plt.pie(numbers, labels = cycle, colors=myColors)"
   ]
  },
  {
   "cell_type": "code",
   "execution_count": null,
   "metadata": {
    "collapsed": true
   },
   "outputs": [],
   "source": []
  }
 ],
 "metadata": {
  "kernelspec": {
   "display_name": "Python 2",
   "language": "python",
   "name": "python2"
  },
  "language_info": {
   "codemirror_mode": {
    "name": "ipython",
    "version": 2
   },
   "file_extension": ".py",
   "mimetype": "text/x-python",
   "name": "python",
   "nbconvert_exporter": "python",
   "pygments_lexer": "ipython2",
   "version": "2.7.11"
  }
 },
 "nbformat": 4,
 "nbformat_minor": 0
}
