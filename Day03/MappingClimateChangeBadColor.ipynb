{
 "cells": [
  {
   "cell_type": "markdown",
   "metadata": {},
   "source": [
    "Prototype code for Middle School coding/climate curriculum. Written by Grace Newman. "
   ]
  },
  {
   "cell_type": "code",
   "execution_count": 1,
   "metadata": {
    "collapsed": false
   },
   "outputs": [
    {
     "ename": "IOError",
     "evalue": "[Errno 2] No such file or directory: 'SeaSurfaceTempDec15.csv'",
     "output_type": "error",
     "traceback": [
      "\u001b[0;31m---------------------------------------------------------------------------\u001b[0m",
      "\u001b[0;31mIOError\u001b[0m                                   Traceback (most recent call last)",
      "\u001b[0;32m<ipython-input-1-63fec3dd7ce4>\u001b[0m in \u001b[0;36m<module>\u001b[0;34m()\u001b[0m\n\u001b[1;32m     87\u001b[0m \u001b[0;34m\u001b[0m\u001b[0m\n\u001b[1;32m     88\u001b[0m \u001b[0;31m#call to main so that the whole thing runs\u001b[0m\u001b[0;34m\u001b[0m\u001b[0;34m\u001b[0m\u001b[0m\n\u001b[0;32m---> 89\u001b[0;31m \u001b[0mmain\u001b[0m\u001b[0;34m(\u001b[0m\u001b[0;34m)\u001b[0m\u001b[0;34m\u001b[0m\u001b[0m\n\u001b[0m",
      "\u001b[0;32m<ipython-input-1-63fec3dd7ce4>\u001b[0m in \u001b[0;36mmain\u001b[0;34m()\u001b[0m\n\u001b[1;32m      7\u001b[0m \u001b[0;31m#Modify file name\u001b[0m\u001b[0;34m\u001b[0m\u001b[0;34m\u001b[0m\u001b[0m\n\u001b[1;32m      8\u001b[0m \u001b[0;32mdef\u001b[0m \u001b[0mmain\u001b[0m\u001b[0;34m(\u001b[0m\u001b[0;34m)\u001b[0m\u001b[0;34m:\u001b[0m\u001b[0;34m\u001b[0m\u001b[0m\n\u001b[0;32m----> 9\u001b[0;31m     \u001b[0mstringReadin\u001b[0m \u001b[0;34m=\u001b[0m \u001b[0mreadInCSVToString\u001b[0m\u001b[0;34m(\u001b[0m\u001b[0;34m\"SeaSurfaceTempDec15.csv\"\u001b[0m\u001b[0;34m)\u001b[0m\u001b[0;34m\u001b[0m\u001b[0m\n\u001b[0m\u001b[1;32m     10\u001b[0m     \u001b[0mfloatData\u001b[0m \u001b[0;34m=\u001b[0m \u001b[0mstringDataToFloat\u001b[0m\u001b[0;34m(\u001b[0m\u001b[0mstringReadin\u001b[0m\u001b[0;34m)\u001b[0m\u001b[0;34m\u001b[0m\u001b[0m\n\u001b[1;32m     11\u001b[0m     \u001b[0mMapClimate\u001b[0m \u001b[0;34m=\u001b[0m \u001b[0mmakeAndFillImg\u001b[0m\u001b[0;34m(\u001b[0m\u001b[0mfloatData\u001b[0m\u001b[0;34m)\u001b[0m\u001b[0;34m\u001b[0m\u001b[0m\n",
      "\u001b[0;32m<ipython-input-1-63fec3dd7ce4>\u001b[0m in \u001b[0;36mreadInCSVToString\u001b[0;34m(filepath)\u001b[0m\n\u001b[1;32m     17\u001b[0m \u001b[0;31m#DO NOT TOUCH THIS FUNCTION\u001b[0m\u001b[0;34m\u001b[0m\u001b[0;34m\u001b[0m\u001b[0m\n\u001b[1;32m     18\u001b[0m \u001b[0;32mdef\u001b[0m \u001b[0mreadInCSVToString\u001b[0m\u001b[0;34m(\u001b[0m\u001b[0mfilepath\u001b[0m\u001b[0;34m)\u001b[0m\u001b[0;34m:\u001b[0m\u001b[0;34m\u001b[0m\u001b[0m\n\u001b[0;32m---> 19\u001b[0;31m     \u001b[0mcsvfile\u001b[0m \u001b[0;34m=\u001b[0m \u001b[0mopen\u001b[0m\u001b[0;34m(\u001b[0m\u001b[0mfilepath\u001b[0m\u001b[0;34m,\u001b[0m \u001b[0;34m'rU'\u001b[0m\u001b[0;34m)\u001b[0m\u001b[0;34m\u001b[0m\u001b[0m\n\u001b[0m\u001b[1;32m     20\u001b[0m     \u001b[0mreader\u001b[0m \u001b[0;34m=\u001b[0m \u001b[0mcsv\u001b[0m\u001b[0;34m.\u001b[0m\u001b[0mreader\u001b[0m\u001b[0;34m(\u001b[0m\u001b[0mcsvfile\u001b[0m\u001b[0;34m,\u001b[0m \u001b[0mdelimiter\u001b[0m\u001b[0;34m=\u001b[0m\u001b[0;34m','\u001b[0m\u001b[0;34m,\u001b[0m \u001b[0mquotechar\u001b[0m\u001b[0;34m=\u001b[0m\u001b[0;34m'\"'\u001b[0m\u001b[0;34m)\u001b[0m\u001b[0;34m\u001b[0m\u001b[0m\n\u001b[1;32m     21\u001b[0m     \u001b[0mstringRead\u001b[0m \u001b[0;34m=\u001b[0m \u001b[0;34m[\u001b[0m\u001b[0;34m]\u001b[0m\u001b[0;34m\u001b[0m\u001b[0m\n",
      "\u001b[0;31mIOError\u001b[0m: [Errno 2] No such file or directory: 'SeaSurfaceTempDec15.csv'"
     ]
    }
   ],
   "source": [
    "from PIL import Image\n",
    "from PIL import ImageOps\n",
    "import csv\n",
    "\n",
    "\n",
    "#Main function calling each of the functions in turn\n",
    "#Modify file name\n",
    "def main():\n",
    "    stringReadin = readInCSVToString(\"SeaSurfaceTempDec15.csv\")\n",
    "    floatData = stringDataToFloat(stringReadin)\n",
    "    MapClimate = makeAndFillImg(floatData)\n",
    "    MapClimate.show()\n",
    "\n",
    "    \n",
    "#Function to read in a csv to a formatted string\n",
    "#also includes error checking for problems with uneven length\n",
    "#DO NOT TOUCH THIS FUNCTION\n",
    "def readInCSVToString(filepath):\n",
    "    csvfile = open(filepath, 'rU') \n",
    "    reader = csv.reader(csvfile, delimiter=',', quotechar='\"')\n",
    "    stringRead = []\n",
    "    for row in reader:\n",
    "        stringRead.append(row)\n",
    "    csvfile.close()\n",
    "    return stringRead\n",
    "\n",
    "\n",
    "#Function to convert the read-in string data to float data\n",
    "#returns the read-in data and max/min values for visualization scaling\n",
    "#DO NOT TOUCH THIS FUNCTION\n",
    "def stringDataToFloat(stringRead):\n",
    "    finalRead = []\n",
    "    for stringRow in stringRead:\n",
    "        numRow = []\n",
    "        for stringElem in stringRow:\n",
    "            val = float(stringElem)\n",
    "            numRow.append(val)\n",
    "        finalRead.append(numRow)\n",
    "    return finalRead\n",
    "\n",
    "\n",
    "#Binning color assignment using if/else blocks\n",
    "#Modify bin borders and colors\n",
    "#input: value to convert\n",
    "#output: rgb triple\n",
    "def valueToRGBBins(value):\n",
    "    if value <= 0.0:\n",
    "        return (255, 128, 0)  #orange\n",
    "    elif value <= 2.0:\n",
    "        return (0, 255, 255)  #light blue\n",
    "    elif value <= 5.0:\n",
    "        return (0, 255, 128)  #sea green \n",
    "    elif value <= 8.0:\n",
    "        return (0, 255, 0)    #bright green\n",
    "    elif value <= 12.0:\n",
    "        return (128, 255, 0)  #light green\n",
    "    elif value <= 15.0:\n",
    "        return (153, 255, 51) #lighter green\n",
    "    elif value <= 20.0:\n",
    "        return (255, 255, 0)  #yellow\n",
    "    elif value <= 25.0:\n",
    "        return (255, 0, 127)  #hot pink\n",
    "    elif value < 30.0:\n",
    "        return (0, 128, 255)  #royal blue\n",
    "    elif value < 35.0:\n",
    "        return (0, 0, 255)    #blue\n",
    "    elif value < 40.0:\n",
    "        return (0, 0, 204)    #dark blue\n",
    "    else:\n",
    "        return (0, 0, 0)\n",
    "\n",
    "    \n",
    "#function to create an image and fill it with rgb values from data matrix\n",
    "#May need to modify mirror and rotate\n",
    "def makeAndFillImg(data): \n",
    "    numRows = len(data)\n",
    "    numCols = len(data[0])\n",
    "    img = Image.new('RGB', (numRows, numCols), \"black\")\n",
    "    pixels = img.load()\n",
    "    \n",
    "    for i in range(img.size[0]):\n",
    "        for j in range(img.size[1]):\n",
    "            pixels[i,j] = valueToRGBBins(data[i][j])\n",
    "            \n",
    "    return ImageOps.mirror(img.rotate(270))\n",
    "\n",
    "\n",
    "#call to main so that the whole thing runs\n",
    "main()"
   ]
  },
  {
   "cell_type": "code",
   "execution_count": null,
   "metadata": {
    "collapsed": true
   },
   "outputs": [],
   "source": []
  }
 ],
 "metadata": {
  "kernelspec": {
   "display_name": "Python 2",
   "language": "python",
   "name": "python2"
  },
  "language_info": {
   "codemirror_mode": {
    "name": "ipython",
    "version": 2
   },
   "file_extension": ".py",
   "mimetype": "text/x-python",
   "name": "python",
   "nbconvert_exporter": "python",
   "pygments_lexer": "ipython2",
   "version": "2.7.11"
  }
 },
 "nbformat": 4,
 "nbformat_minor": 0
}
