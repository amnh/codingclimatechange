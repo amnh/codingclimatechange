{
 "cells": [
  {
   "cell_type": "code",
   "execution_count": null,
   "metadata": {
    "collapsed": true
   },
   "outputs": [],
   "source": [
    "if birthyear == 2003:\n",
    "    print \"Team Red!\"\n",
    "elif birthyear == 2004:\n",
    "    print \"Team Green!\"\n",
    "else:\n",
    "    print \"Team Blue!\"\n"
   ]
  },
  {
   "cell_type": "code",
   "execution_count": null,
   "metadata": {
    "collapsed": false
   },
   "outputs": [],
   "source": [
    "if score >= 90.0:\n",
    "    print \"A\"\n",
    "elif score >= 80.0:\n",
    "    print \"B\"\n",
    "elif score >= 70.0:\n",
    "    print \"C\"\n",
    "else:\n",
    "    print \"F\"\n"
   ]
  },
  {
   "cell_type": "code",
   "execution_count": 17,
   "metadata": {
    "collapsed": false
   },
   "outputs": [
    {
     "name": "stdout",
     "output_type": "stream",
     "text": [
      "w w w w w o o o o o w w w w w o o o o o \n",
      "w w w w w o o o o o w w w w w o o o o o \n",
      "w w w w w o o o o o w w w w w o o o o o \n",
      "w w w w w o o o o o w w w w w o o o o o \n",
      "w w w w w o o o o o w w w w w o o o o o \n",
      "o o o o o x x x x x o o o o o x x x x x \n",
      "o o o o o x x x x x o o o o o x x x x x \n",
      "o o o o o x x x x x o o o o o x x x x x \n",
      "o o o o o x x x x x o o o o o x x x x x \n",
      "o o o o o x x x x x o o o o o x x x x x \n",
      "w w w w w o o o o o w w w w w o o o o o \n",
      "w w w w w o o o o o w w w w w o o o o o \n",
      "w w w w w o o o o o w w w w w o o o o o \n",
      "w w w w w o o o o o w w w w w o o o o o \n",
      "w w w w w o o o o o w w w w w o o o o o \n",
      "o o o o o x x x x x o o o o o x x x x x \n",
      "o o o o o x x x x x o o o o o x x x x x \n",
      "o o o o o x x x x x o o o o o x x x x x \n",
      "o o o o o x x x x x o o o o o x x x x x \n",
      "o o o o o x x x x x o o o o o x x x x x \n"
     ]
    }
   ],
   "source": [
    "for row in range(20):\n",
    "    for column in range(20):\n",
    "        if (row in range(0,5) or row in range(10,15)) and (column in range(0,5) or column in range(10,15)):\n",
    "            print \"w\",\n",
    "        elif (row in range(5,10) or row in range(15,20)) and (column in range(5,10) or column in range(15,20)):\n",
    "            print \"x\",\n",
    "        else:\n",
    "            print \"o\",\n",
    "    print \"\"\n"
   ]
  },
  {
   "cell_type": "code",
   "execution_count": null,
   "metadata": {
    "collapsed": true
   },
   "outputs": [],
   "source": []
  }
 ],
 "metadata": {
  "kernelspec": {
   "display_name": "Python 2",
   "language": "python",
   "name": "python2"
  },
  "language_info": {
   "codemirror_mode": {
    "name": "ipython",
    "version": 2
   },
   "file_extension": ".py",
   "mimetype": "text/x-python",
   "name": "python",
   "nbconvert_exporter": "python",
   "pygments_lexer": "ipython2",
   "version": "2.7.11"
  }
 },
 "nbformat": 4,
 "nbformat_minor": 0
}
