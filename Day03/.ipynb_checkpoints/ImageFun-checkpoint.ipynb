{
 "cells": [
  {
   "cell_type": "code",
   "execution_count": null,
   "metadata": {
    "collapsed": true
   },
   "outputs": [],
   "source": [
    "from PIL import Image\n",
    "\n",
    "def makeEmptyImage(cols, rows):\n",
    "    im = Image.new(\"RGB\", (3, 9), \"white\")\n",
    "    pixels = im.load()\n",
    "    rows = range(im.size[1])\n",
    "    return rows\n",
    "\n",
    "def setRow(row, color, image):\n",
    "    for col in range(im.size[0]):\n",
    "        image[col, row] = color"
   ]
  }
 ],
 "metadata": {
  "kernelspec": {
   "display_name": "Python 2",
   "language": "python",
   "name": "python2"
  },
  "language_info": {
   "codemirror_mode": {
    "name": "ipython",
    "version": 2
   },
   "file_extension": ".py",
   "mimetype": "text/x-python",
   "name": "python",
   "nbconvert_exporter": "python",
   "pygments_lexer": "ipython2",
   "version": "2.7.11"
  }
 },
 "nbformat": 4,
 "nbformat_minor": 0
}
