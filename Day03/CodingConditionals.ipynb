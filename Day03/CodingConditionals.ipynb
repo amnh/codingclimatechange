{
 "cells": [
  {
   "cell_type": "code",
   "execution_count": null,
   "metadata": {
    "collapsed": false
   },
   "outputs": [],
   "source": [
    "#determine your team\n",
    "birthyear = 0\n",
    "if birthyear == 2003:\n",
    "    print \"Team Beyonce!\"\n",
    "elif birthyear == 2004:\n",
    "    print \"Team Rihanna!\"\n",
    "else:\n",
    "    print \"Team Taylor!\"\n"
   ]
  },
  {
   "cell_type": "code",
   "execution_count": null,
   "metadata": {
    "collapsed": false
   },
   "outputs": [],
   "source": [
    "#find out your letter grade\n",
    "if score >= 90.0:\n",
    "    print \"A\"\n",
    "elif score >= 80.0:\n",
    "    print \"B\"\n",
    "elif score >= 70.0:\n",
    "    print \"C\"\n",
    "else:\n",
    "    print \"F\"\n"
   ]
  },
  {
   "cell_type": "code",
   "execution_count": null,
   "metadata": {
    "collapsed": true
   },
   "outputs": [],
   "source": []
  }
 ],
 "metadata": {
  "kernelspec": {
   "display_name": "Python 2",
   "language": "python",
   "name": "python2"
  },
  "language_info": {
   "codemirror_mode": {
    "name": "ipython",
    "version": 2
   },
   "file_extension": ".py",
   "mimetype": "text/x-python",
   "name": "python",
   "nbconvert_exporter": "python",
   "pygments_lexer": "ipython2",
   "version": "2.7.11"
  }
 },
 "nbformat": 4,
 "nbformat_minor": 0
}
