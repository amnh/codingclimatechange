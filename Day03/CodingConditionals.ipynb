{
 "cells": [
  {
   "cell_type": "code",
   "execution_count": null,
   "metadata": {
    "collapsed": true
   },
   "outputs": [],
   "source": [
    "def colorTeam(birthyear):\n",
    "    if birthyear == 2003:\n",
    "        return \"Team Red!\"\n",
    "    elif birthyear == 2004:\n",
    "        return \"Team Green!\"\n",
    "    else:\n",
    "        return \"Team Blue!\"\n",
    "\n",
    "print colorTeam(2004)"
   ]
  },
  {
   "cell_type": "code",
   "execution_count": null,
   "metadata": {
    "collapsed": false
   },
   "outputs": [],
   "source": [
    "def letterGrade(score):\n",
    "    if score >= 90.0:\n",
    "        return \"A\"\n",
    "    elif score >= 80.0:\n",
    "        return \"B\"\n",
    "    elif score >= 70.0:\n",
    "        return \"C\"\n",
    "    else:\n",
    "        return \"F\"\n"
   ]
  },
  {
   "cell_type": "code",
   "execution_count": null,
   "metadata": {
    "collapsed": true
   },
   "outputs": [],
   "source": []
  }
 ],
 "metadata": {
  "kernelspec": {
   "display_name": "Python 2",
   "language": "python",
   "name": "python2"
  },
  "language_info": {
   "codemirror_mode": {
    "name": "ipython",
    "version": 2
   },
   "file_extension": ".py",
   "mimetype": "text/x-python",
   "name": "python",
   "nbconvert_exporter": "python",
   "pygments_lexer": "ipython2",
   "version": "2.7.11"
  }
 },
 "nbformat": 4,
 "nbformat_minor": 0
}
