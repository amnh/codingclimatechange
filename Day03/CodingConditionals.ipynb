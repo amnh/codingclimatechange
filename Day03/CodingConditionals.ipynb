{
 "cells": [
  {
   "cell_type": "code",
   "execution_count": null,
   "metadata": {
    "collapsed": false
   },
   "outputs": [],
   "source": [
    "n = 20\n",
    "\n",
    "if n == 30:\n",
    "        print \"Equal to 30\"\n",
    "else:\n",
    "        print \"Not equal to 30\""
   ]
  },
  {
   "cell_type": "code",
   "execution_count": null,
   "metadata": {
    "collapsed": false
   },
   "outputs": [],
   "source": [
    "#Used information from: http://nationalgeographic.org/media/endangered/\n",
    "# Panda census source: http://wwf.panda.org/what_we_do/endangered_species/giant_panda/panda/how_many_are_left_in_the_wild_population/\n",
    "\n",
    "wildPandas = 1864\n",
    "\n",
    "if wildPandas > 10000:\n",
    "    print \"Not an endangered species\"\n",
    "elif wildPandas <= 2500:\n",
    "    print \"Endangered species\"\n",
    "elif wildPandas <= 250:\n",
    "    print \"CRITICALLY endangered\"\n",
    "elif wildPandas == 0:\n",
    "    print \"Extinct :(\"\n",
    "else:\n",
    "    print \"Make sure you are submitting a positive number\""
   ]
  },
  {
   "cell_type": "code",
   "execution_count": null,
   "metadata": {
    "collapsed": false
   },
   "outputs": [],
   "source": [
    "#determine your team\n",
    "birthyear = 1991\n",
    "if birthyear == 2003:\n",
    "    print \"Team Beyonce!\"\n",
    "elif birthyear == 2004:\n",
    "    print \"Team Rihanna!\"\n",
    "else:\n",
    "    print \"Team Taylor!\""
   ]
  },
  {
   "cell_type": "code",
   "execution_count": null,
   "metadata": {
    "collapsed": false
   },
   "outputs": [],
   "source": [
    "# letter grade code\n",
    "# Test it out by creating a variable named \"score\"\n",
    "# Then, modify the code so it includes \"D\"\n",
    "\n",
    "if score >= 90.0:\n",
    "    print \"A\"\n",
    "elif score >= 80.0:\n",
    "    print \"B\"\n",
    "elif score >= 70.0:\n",
    "    print \"C\"\n",
    "else:\n",
    "    print \"F\"\n"
   ]
  },
  {
   "cell_type": "code",
   "execution_count": null,
   "metadata": {
    "collapsed": false
   },
   "outputs": [],
   "source": [
    "# Write code that reads a letter grade as a string and prints the following phrases:\n",
    "# \"A\" -> \"Awesome job!\"\n",
    "# \"B\" -> \"Well done!\"\n",
    "# \"C\" -> \"You did okay.\"\n",
    "# \"D\" -> \"Getting there.\"\n",
    "# \"F\" -> \"Still need some work.\"\n"
   ]
  },
  {
   "cell_type": "code",
   "execution_count": null,
   "metadata": {
    "collapsed": true
   },
   "outputs": [],
   "source": [
    "# Modify the code to add a check for a letter not listed"
   ]
  },
  {
   "cell_type": "code",
   "execution_count": null,
   "metadata": {
    "collapsed": true
   },
   "outputs": [],
   "source": []
  }
 ],
 "metadata": {
  "kernelspec": {
   "display_name": "Python 2",
   "language": "python",
   "name": "python2"
  },
  "language_info": {
   "codemirror_mode": {
    "name": "ipython",
    "version": 2
   },
   "file_extension": ".py",
   "mimetype": "text/x-python",
   "name": "python",
   "nbconvert_exporter": "python",
   "pygments_lexer": "ipython2",
   "version": "2.7.11"
  }
 },
 "nbformat": 4,
 "nbformat_minor": 0
}
