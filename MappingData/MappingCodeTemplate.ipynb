{
 "cells": [
  {
   "cell_type": "markdown",
   "metadata": {},
   "source": [
    "Prototype code for Middle School coding/climate curriculum. \n",
    "Written by Grace Newman "
   ]
  },
  {
   "cell_type": "code",
   "execution_count": null,
   "metadata": {
    "collapsed": false
   },
   "outputs": [],
   "source": [
    "from PIL import Image\n",
    "from PIL import ImageOps\n",
    "import csv\n",
    "    \n",
    "csvfile = open(\"Data/yourDataSet\", 'rU') \n",
    "reader = csv.reader(csvfile, delimiter=',', quotechar='\"')\n",
    "data = []\n",
    "for row in reader:\n",
    "    newRow = []\n",
    "    for elem in row:\n",
    "        newRow.append(float(elem))\n",
    "    data.append(newRow)\n",
    "csvfile.close()\n",
    "\n",
    "numRows = len(data)\n",
    "numCols = len(data[0])\n",
    "img = Image.new('RGB', (numRows, numCols), \"black\")\n",
    "pixels = img.load()\n",
    "\n",
    "dataValues = []\n",
    "\n",
    "for i in range(img.size[0]):\n",
    "    for j in range(img.size[1]):\n",
    "        if data[i][j] != 99999:\n",
    "            dataValues.append(data[i][j])\n",
    "        if data[i][j] <= 0.0:\n",
    "            pixels[i,j] = (0, 0, 0)\n",
    "        elif data[i][j] <= 0.0:\n",
    "            pixels[i,j] = (0, 0, 0)\n",
    "        else:\n",
    "            pixels[i,j] = (0, 0, 0)\n",
    "\n",
    "print \"Minimum data value is\", min(dataValues)\n",
    "print \"Maximum data value is\", max(dataValues)\n",
    "            \n",
    "ImageOps.mirror(img.rotate(270, expand=1)).show()"
   ]
  },
  {
   "cell_type": "code",
   "execution_count": null,
   "metadata": {
    "collapsed": true
   },
   "outputs": [],
   "source": []
  }
 ],
 "metadata": {
  "anaconda-cloud": {},
  "kernelspec": {
   "display_name": "Python 2",
   "language": "python",
   "name": "python2"
  },
  "language_info": {
   "codemirror_mode": {
    "name": "ipython",
    "version": 2
   },
   "file_extension": ".py",
   "mimetype": "text/x-python",
   "name": "python",
   "nbconvert_exporter": "python",
   "pygments_lexer": "ipython2",
   "version": "2.7.11"
  }
 },
 "nbformat": 4,
 "nbformat_minor": 0
}
