{
 "cells": [
  {
   "cell_type": "code",
   "execution_count": 5,
   "metadata": {
    "collapsed": false
   },
   "outputs": [],
   "source": [
    "#Grouping problem 1: paint by numbers\n",
    "from PIL import Image\n",
    "\n",
    "#make a list of values that determine the image\n",
    "imageValues = range(10)\n",
    "\n",
    "#Image.new makes a new blank image with the given size and color\n",
    "#the RGB just tells it how we'll specify colors\n",
    "myImage = Image.new('RGB', (10,1), \"black\")\n",
    "#load gets us all the pixels in the image\n",
    "pixels = myImage.load()\n",
    "#the line below gives us the size of the image\n",
    "size = myImage.size[0]\n",
    "for coord in range(size):\n",
    "    colorValue = (0, 0, 0)\n",
    "    if imageValues[coord] <= 3:\n",
    "        colorValue = (0, 0, 75)\n",
    "    elif imageValues[coord] <= 6:\n",
    "        colorValue = (0, 0, 160)\n",
    "    else:\n",
    "        colorValue = (0, 0, 225)\n",
    "    pixels[coord,0] = colorValue\n",
    "    \n",
    "#displays the image to your screen   \n",
    "#you'll have to zoom in a bunch to see it\n",
    "myImage.show()"
   ]
  },
  {
   "cell_type": "code",
   "execution_count": 10,
   "metadata": {
    "collapsed": false
   },
   "outputs": [
    {
     "name": "stdout",
     "output_type": "stream",
     "text": [
      "       *       \n",
      "      **      \n",
      "      ***      \n",
      "     ****     \n",
      "     *****     \n",
      "    ******    \n",
      "    *******    \n",
      "   ********   \n",
      "   *********   \n",
      "  **********  \n",
      "     ****     \n",
      "     ****     \n",
      "     ****     \n",
      "     ****     \n",
      "     ****     \n",
      "\n"
     ]
    }
   ],
   "source": [
    "#Grouping problem 2: Christmas Tree\n",
    "\n",
    "outString = \"\"\n",
    "for line in range(15):\n",
    "    if line >= 10:\n",
    "        #adding that \\n to the end is like pressing the enter key\n",
    "        #remember that we can use multiplication to repeat a string\n",
    "        outString = outString + (\" \" * 5) + (\"*\" * 4) + (\" \" * 5) + \"\\n\"\n",
    "    else:\n",
    "        numberOfSpaces = (15 - (line + 1)) / 2\n",
    "        outString = outString +  (\" \" * numberOfSpaces) + (\"*\" * (line + 1)) + (\" \" * numberOfSpaces) + \"\\n\"\n",
    "\n",
    "print outString"
   ]
  },
  {
   "cell_type": "code",
   "execution_count": null,
   "metadata": {
    "collapsed": true
   },
   "outputs": [],
   "source": [
    "#Grouping problem 3: Carbon Footprint\n",
    "\n",
    "#how many people do you live with? (include yourself)\n",
    "household = 4\n",
    "\n",
    "#how many rooms does your house/apartment have?\n",
    "rooms = 4\n",
    "\n",
    "#How many bags of garbage do you make in a day?\n",
    "garbage = 1\n",
    "\n",
    "#Do you recylce? (y for yes, n for no)\n",
    "recycle = \"n\"\n",
    "\n",
    "#Do you have a car? (y/n)\n",
    "car = \"n\"\n",
    "\n",
    "#The amount of carbon from electricity you use is given by:\n",
    "    #The number of people / (2.5 * .943 * 623.7)\n",
    "    \n",
    "#The amount of carbon from heat you use is given by:\n",
    "    #the number of rooms / (2 * 5500 * 0.0117)\n",
    "    \n",
    "#The amount of carbon from garbage is given by:\n",
    "    #number of bags per day * 8.7\n",
    "    \n",
    "#If you recycle, this amount is reduced, so the final amount is:\n",
    "    #previous amount of carbon from garbage * 0.8\n",
    "    \n",
    "#If you have a car, the carbon from fuel is:\n",
    "    #800 / (25 * 19.6)\n",
    "    #otherwise that value is zero\n",
    "    \n",
    "#the total carbon use is the sum of all the amounts above (carbon from electriciy, garbage, heat, and fuel)"
   ]
  }
 ],
 "metadata": {
  "kernelspec": {
   "display_name": "Python 2",
   "language": "python",
   "name": "python2"
  },
  "language_info": {
   "codemirror_mode": {
    "name": "ipython",
    "version": 2
   },
   "file_extension": ".py",
   "mimetype": "text/x-python",
   "name": "python",
   "nbconvert_exporter": "python",
   "pygments_lexer": "ipython2",
   "version": "2.7.11"
  }
 },
 "nbformat": 4,
 "nbformat_minor": 0
}
