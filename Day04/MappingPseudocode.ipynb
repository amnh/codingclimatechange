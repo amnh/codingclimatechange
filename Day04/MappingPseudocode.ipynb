{
 "cells": [
  {
   "cell_type": "code",
   "execution_count": null,
   "metadata": {
    "collapsed": true
   },
   "outputs": [],
   "source": [
    "#We don't want to write mapping code COMPLETELY from scratch\n",
    "#so we need to get some other people's code to help us\n",
    "#let's import that"
   ]
  },
  {
   "cell_type": "code",
   "execution_count": null,
   "metadata": {
    "collapsed": true
   },
   "outputs": [],
   "source": [
    "#Next we'll need to load in our data\n",
    "#right now it's stored in a csv file\n",
    "#as we load it in, we'll want to make sure that it's stored as a float"
   ]
  },
  {
   "cell_type": "code",
   "execution_count": null,
   "metadata": {
    "collapsed": true
   },
   "outputs": [],
   "source": [
    "# once our data is loaded, let's make an empty image to fill with our map\n",
    "# We also create an empty list so that we can find the minimum and maximum data value"
   ]
  },
  {
   "cell_type": "code",
   "execution_count": null,
   "metadata": {
    "collapsed": true
   },
   "outputs": [],
   "source": [
    "#Now for every pixel of that image\n",
    "#we want to use a conditional to determine what color it should be\n",
    "# We also want to add it to our dataValues list"
   ]
  },
  {
   "cell_type": "code",
   "execution_count": null,
   "metadata": {
    "collapsed": true
   },
   "outputs": [],
   "source": [
    "#finally we'll display the image to the screen\n",
    "# We also print the minimum and maximum pixel values so that we can change our color conditions accordingly"
   ]
  }
 ],
 "metadata": {
  "kernelspec": {
   "display_name": "Python 2",
   "language": "python",
   "name": "python2"
  },
  "language_info": {
   "codemirror_mode": {
    "name": "ipython",
    "version": 2
   },
   "file_extension": ".py",
   "mimetype": "text/x-python",
   "name": "python",
   "nbconvert_exporter": "python",
   "pygments_lexer": "ipython2",
   "version": "2.7.11"
  }
 },
 "nbformat": 4,
 "nbformat_minor": 0
}
