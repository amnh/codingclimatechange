{
 "cells": [
  {
   "cell_type": "code",
   "execution_count": 6,
   "metadata": {
    "collapsed": false,
    "scrolled": true
   },
   "outputs": [
    {
     "name": "stdout",
     "output_type": "stream",
     "text": [
      "Minimum data value is -2.0\n",
      "Maximum data value is 35.0\n"
     ]
    }
   ],
   "source": [
    "from PIL import Image\n",
    "from PIL import ImageOps\n",
    "import csv\n",
    "    \n",
    "csvfile = open(\"SeaSurfaceTempDec15.csv\", 'rU') \n",
    "reader = csv.reader(csvfile, delimiter=',', quotechar='\"')\n",
    "data = []\n",
    "for row in reader:\n",
    "    newRow = []\n",
    "    for elem in row:\n",
    "        newRow.append(float(elem))\n",
    "    data.append(newRow)\n",
    "csvfile.close()\n",
    "\n",
    "numRows = len(data)\n",
    "numCols = len(data[0])\n",
    "img = Image.new('RGB', (numRows, numCols), \"black\")\n",
    "pixels = img.load()\n",
    "\n",
    "dataValues = []\n",
    "\n",
    "for i in range(img.size[0]):\n",
    "    for j in range(img.size[1]):\n",
    "        if data[i][j] != 99999:\n",
    "            dataValues.append(data[i][j])\n",
    "        if data[i][j] <= 10:\n",
    "            pixels[i,j] = (0, 0, 0)\n",
    "        elif data[i][j] <= 100:\n",
    "            pixels[i,j] = (0, 0, 225)\n",
    "        else:\n",
    "            pixels[i,j] = (0, 225, 0)\n",
    "\n",
    "ImageOps.mirror(img.rotate(270)).show()\n",
    "\n",
    "print \"Minimum data value is\", min(dataValues)\n",
    "print \"Maximum data value is\", max(dataValues)"
   ]
  },
  {
   "cell_type": "code",
   "execution_count": null,
   "metadata": {
    "collapsed": true
   },
   "outputs": [],
   "source": []
  },
  {
   "cell_type": "code",
   "execution_count": null,
   "metadata": {
    "collapsed": false
   },
   "outputs": [],
   "source": []
  },
  {
   "cell_type": "code",
   "execution_count": null,
   "metadata": {
    "collapsed": true
   },
   "outputs": [],
   "source": []
  }
 ],
 "metadata": {
  "kernelspec": {
   "display_name": "Python 2",
   "language": "python",
   "name": "python2"
  },
  "language_info": {
   "codemirror_mode": {
    "name": "ipython",
    "version": 2
   },
   "file_extension": ".py",
   "mimetype": "text/x-python",
   "name": "python",
   "nbconvert_exporter": "python",
   "pygments_lexer": "ipython2",
   "version": "2.7.11"
  }
 },
 "nbformat": 4,
 "nbformat_minor": 0
}
