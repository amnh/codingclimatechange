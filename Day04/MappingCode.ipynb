{
 "cells": [
  {
   "cell_type": "code",
   "execution_count": null,
   "metadata": {
    "collapsed": false,
    "scrolled": true
   },
   "outputs": [],
   "source": [
    "from PIL import Image\n",
    "from PIL import ImageOps\n",
    "import csv\n",
    "    \n",
    "csvfile = open(\"SeaSurfaceTempDec15.csv\", 'rU') \n",
    "reader = csv.reader(csvfile, delimiter=',', quotechar='\"')\n",
    "data = []\n",
    "for row in reader:\n",
    "    newRow = []\n",
    "    for elem in row:\n",
    "        newRow.append(float(elem))\n",
    "    data.append(newRow)\n",
    "csvfile.close()\n",
    "\n",
    "numRows = len(data)\n",
    "numCols = len(data[0])\n",
    "img = Image.new('RGB', (numRows, numCols), \"black\")\n",
    "pixels = img.load()\n",
    "\n",
    "dataValues = []\n",
    "\n",
    "for i in range(img.size[0]):\n",
    "    for j in range(img.size[1]):\n",
    "        if data[i][j] != 99999:\n",
    "            dataValues.append(data[i][j])\n",
    "        if data[i][j] <= 10:\n",
    "            pixels[i,j] = (0, 0, 0)\n",
    "        elif data[i][j] <= 100:\n",
    "            pixels[i,j] = (0, 0, 225)\n",
    "        else:\n",
    "            pixels[i,j] = (0, 225, 0)\n",
    "\n",
    "print(\"Minimum data value is\", min(dataValues))\n",
    "print(\"Maximum data value is\", max(dataValues))\n",
    "\n",
    "ImageOps.mirror(img.rotate(270, expand=1)).show()"
   ]
  },
  {
   "cell_type": "code",
   "execution_count": null,
   "metadata": {
    "collapsed": true
   },
   "outputs": [],
   "source": []
  },
  {
   "cell_type": "code",
   "execution_count": null,
   "metadata": {
    "collapsed": false
   },
   "outputs": [],
   "source": []
  },
  {
   "cell_type": "code",
   "execution_count": null,
   "metadata": {
    "collapsed": true
   },
   "outputs": [],
   "source": []
  }
 ],
 "metadata": {
  "anaconda-cloud": {},
  "kernelspec": {
   "display_name": "Python 3",
   "language": "python",
   "name": "python3"
  },
  "language_info": {
   "codemirror_mode": {
    "name": "ipython",
    "version": 3
   },
   "file_extension": ".py",
   "mimetype": "text/x-python",
   "name": "python",
   "nbconvert_exporter": "python",
   "pygments_lexer": "ipython3",
   "version": "3.6.0"
  }
 },
 "nbformat": 4,
 "nbformat_minor": 0
}
