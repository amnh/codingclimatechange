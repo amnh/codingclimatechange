{
 "cells": [
  {
   "cell_type": "code",
   "execution_count": 3,
   "metadata": {
    "collapsed": false
   },
   "outputs": [],
   "source": [
    "from PIL import Image\n",
    "from PIL import ImageOps\n",
    "import csv\n",
    "    \n",
    "csvfile = open(\"SeaSurfaceTempDec15.csv\", 'rU') \n",
    "reader = csv.reader(csvfile, delimiter=',', quotechar='\"')\n",
    "stringRead = []\n",
    "for row in reader:\n",
    "    stringRead.append(row)\n",
    "csvfile.close()\n",
    "\n",
    "data = []\n",
    "for stringRow in stringRead:\n",
    "    numRow = []\n",
    "    for stringElem in stringRow:\n",
    "        val = float(stringElem)\n",
    "        numRow.append(val)\n",
    "    data.append(numRow)\n",
    "\n",
    "numRows = len(data)\n",
    "numCols = len(data[0])\n",
    "img = Image.new('RGB', (numRows, numCols), \"black\")\n",
    "pixels = img.load()\n",
    "\n",
    "for i in range(img.size[0]):\n",
    "    for j in range(img.size[1]):\n",
    "        if data[i][j] <= 10:\n",
    "            pixels[i,j] = (0, 0, 0)\n",
    "        elif data[i][j] <= 100:\n",
    "            pixels[i,j] = (0, 0, 225)\n",
    "        else:\n",
    "            pixels[i,j] = (0, 225, 0)\n",
    "\n",
    "ImageOps.mirror(img.rotate(270)).show()"
   ]
  },
  {
   "cell_type": "code",
   "execution_count": null,
   "metadata": {
    "collapsed": true
   },
   "outputs": [],
   "source": []
  }
 ],
 "metadata": {
  "kernelspec": {
   "display_name": "Python 2",
   "language": "python",
   "name": "python2"
  },
  "language_info": {
   "codemirror_mode": {
    "name": "ipython",
    "version": 2
   },
   "file_extension": ".py",
   "mimetype": "text/x-python",
   "name": "python",
   "nbconvert_exporter": "python",
   "pygments_lexer": "ipython2",
   "version": "2.7.11"
  }
 },
 "nbformat": 4,
 "nbformat_minor": 0
}
