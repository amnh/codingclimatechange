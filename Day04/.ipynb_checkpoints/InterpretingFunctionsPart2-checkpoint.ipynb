{
 "cells": [
  {
   "cell_type": "code",
   "execution_count": null,
   "metadata": {
    "collapsed": false
   },
   "outputs": [],
   "source": [
    "def dressforWeather(weather):\n",
    "    if weather == \"rain\":\n",
    "         return \"Bring an umbrella!\"\n",
    "    elif weather == \"snow\":\n",
    "        return \"Wear boots.\"\n",
    "    elif weather == \"sun\":\n",
    "        return \"Throw some shade.\"\n",
    "    else:\n",
    "        return \"Nothing special today.\"\n",
    "\n",
    "print dressforWeather(\"sun\")\n"
   ]
  },
  {
   "cell_type": "code",
   "execution_count": null,
   "metadata": {
    "collapsed": false
   },
   "outputs": [],
   "source": [
    "def whichMonth(num):\n",
    "    s = [\"Jan\", \"Feb\", \"Mar\", \"Apr\", \"May\", \"June\", \"July\", \"Aug\", \"Sept\", \"Oct\", \"Nov\", \"Dec\"]\n",
    "    return s[num-1]\n",
    "\n",
    "print whichMonth(9)"
   ]
  },
  {
   "cell_type": "code",
   "execution_count": null,
   "metadata": {
    "collapsed": false
   },
   "outputs": [],
   "source": [
    "def biggerThan(num1, num2):\n",
    "    if num1 > num2:\n",
    "        return num1\n",
    "    elif num2 > num1:\n",
    "        return num2\n",
    "    else:\n",
    "        return \"They are equal!\"\n",
    "    \n",
    "print biggerThan(12, 15)"
   ]
  },
  {
   "cell_type": "code",
   "execution_count": 24,
   "metadata": {
    "collapsed": false
   },
   "outputs": [
    {
     "name": "stdout",
     "output_type": "stream",
     "text": [
      "1646.50856\n"
     ]
    }
   ],
   "source": [
    "#how many people do you live with (including you)? \n",
    "household = 4\n",
    "\n",
    "#how many rooms does your home have?\n",
    "rooms = 2\n",
    "\n",
    "#How many bags of garbage do you produce each day?\n",
    "garbage = 2\n",
    "\n",
    "#Do you recycle? (y/n)\n",
    "recycle = \"y\"\n",
    "\n",
    "#Does your household have a car? (y/n)\n",
    "car = \"y\"\n",
    "\n",
    "def carbonFootprint(hhold, rms, gbag, rcy, c):\n",
    "    electricity = hhold/2.5*.943*623.7\n",
    "    heat = rms/2*5500*0.0117\n",
    "    waste = gbag*8.7\n",
    "    if rcy == \"y\":\n",
    "        waste = waste*.8\n",
    "    if c == \"y\":\n",
    "        fuel = 800/25*19.6\n",
    "    else:\n",
    "        fuel = 0\n",
    "    total = electricity + heat + waste + fuel\n",
    "    return total\n",
    "\n",
    "print carbonFootprint(household, rooms, garbage, recycle, car)   "
   ]
  },
  {
   "cell_type": "code",
   "execution_count": null,
   "metadata": {
    "collapsed": false
   },
   "outputs": [],
   "source": [
    "%matplotlib inline\n",
    "import matplotlib.pyplot as plt\n",
    "import numpy as np\n",
    "\n",
    "def eyeColor(bl, brwn, grn, gry):\n",
    "    nmbrs = [bl, brwn, grn, gry]\n",
    "    labels = ['blue', 'brown', 'green', 'grey']\n",
    "    xPos = np.arange(len(labels))\n",
    "    plt.barh(xPos, nmbrs)\n",
    "    plt.yticks(xPos, labels)\n",
    "    \n",
    "eyeColor(2,3,1,0)"
   ]
  },
  {
   "cell_type": "code",
   "execution_count": null,
   "metadata": {
    "collapsed": false
   },
   "outputs": [],
   "source": [
    "numbers = [3.4, 6.7, 8.2, 1.2, 3.2, 5.0, 2.3, 3.4, 8.1, 1.3]\n",
    "\n",
    "def stats(nmbrs):\n",
    "    s = sum(nmbrs)\n",
    "    ave = s/len(nmbrs)\n",
    "    mx = max(nmbrs)\n",
    "    mn = min(nmbrs)\n",
    "    r = mx - mn\n",
    "    return \"The average is: \" + str(ave) + \". The range is: \" + str(r)\n",
    "\n",
    "print stats(numbers)\n",
    "    "
   ]
  },
  {
   "cell_type": "code",
   "execution_count": null,
   "metadata": {
    "collapsed": true
   },
   "outputs": [],
   "source": []
  }
 ],
 "metadata": {
  "kernelspec": {
   "display_name": "Python 2",
   "language": "python",
   "name": "python2"
  },
  "language_info": {
   "codemirror_mode": {
    "name": "ipython",
    "version": 2
   },
   "file_extension": ".py",
   "mimetype": "text/x-python",
   "name": "python",
   "nbconvert_exporter": "python",
   "pygments_lexer": "ipython2",
   "version": "2.7.11"
  }
 },
 "nbformat": 4,
 "nbformat_minor": 0
}
