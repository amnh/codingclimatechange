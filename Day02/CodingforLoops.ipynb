{
 "cells": [
  {
   "cell_type": "code",
   "execution_count": 2,
   "metadata": {
    "collapsed": false
   },
   "outputs": [
    {
     "name": "stdout",
     "output_type": "stream",
     "text": [
      "[0, 1, 2, 3, 4, 5, 6, 7, 8, 9]\n"
     ]
    }
   ],
   "source": [
    "print range(10)"
   ]
  },
  {
   "cell_type": "code",
   "execution_count": null,
   "metadata": {
    "collapsed": true
   },
   "outputs": [],
   "source": [
    "for i in range(4):\n",
    "    print i"
   ]
  },
  {
   "cell_type": "code",
   "execution_count": null,
   "metadata": {
    "collapsed": true
   },
   "outputs": [],
   "source": [
    "for x in range(6):\n",
    "    print \"Hello class!\""
   ]
  },
  {
   "cell_type": "code",
   "execution_count": null,
   "metadata": {
    "collapsed": true
   },
   "outputs": [],
   "source": [
    "birthYear = 2003\n",
    "\n",
    "n = 2016 - birthYear\n",
    "s = 0\n",
    "\n",
    "for i in range(n):\n",
    "    s = s + 5\n",
    "\n",
    "print s\n"
   ]
  },
  {
   "cell_type": "code",
   "execution_count": null,
   "metadata": {
    "collapsed": false
   },
   "outputs": [],
   "source": [
    "numbers = [2, 4, 7, 1, 3]\n",
    "\n",
    "for i in range(len(numbers)):\n",
    "    numbers[i] = numbers[i]*5\n",
    "print numbers"
   ]
  },
  {
   "cell_type": "code",
   "execution_count": 1,
   "metadata": {
    "collapsed": false
   },
   "outputs": [
    {
     "name": "stdout",
     "output_type": "stream",
     "text": [
      "2010\n",
      "Human Activity: 97.4525168977\n",
      "Atmosphere: 790.930057097\n",
      "Oceans: 39043.8536326\n",
      "Biosphere: 2712.6688272\n",
      "Fossil Fuels: 3902.5474831\n",
      "2020\n",
      "Human Activity: 118.794074313\n",
      "Atmosphere: 840.823568308\n",
      "Oceans: 39097.310966\n",
      "Biosphere: 2728.11205686\n",
      "Fossil Fuels: 3783.75340879\n",
      "2030\n",
      "Human Activity: 144.809313716\n",
      "Atmosphere: 901.643480069\n",
      "Oceans: 39162.4751572\n",
      "Biosphere: 2746.93726764\n",
      "Fossil Fuels: 3638.94409507\n",
      "2040\n",
      "Human Activity: 176.521745383\n",
      "Atmosphere: 975.78261313\n",
      "Oceans: 39241.9099426\n",
      "Biosphere: 2769.88509454\n",
      "Fossil Fuels: 3462.42234969\n",
      "2050\n",
      "Human Activity: 215.179022629\n",
      "Atmosphere: 1066.15780263\n",
      "Oceans: 39338.7405028\n",
      "Biosphere: 2797.85836748\n",
      "Fossil Fuels: 3247.24332706\n"
     ]
    }
   ],
   "source": [
    "rIncrease = 0.02\n",
    "CurrentRate = 8.9\n",
    "Total = 0\n",
    "\n",
    "Year = 2010\n",
    "Atm = 750\n",
    "Ocean = 39000\n",
    "Bio = 2700\n",
    "FFuel = 4000\n",
    "\n",
    "steps = 5\n",
    "\n",
    "for i in range(steps):\n",
    "    for j in range(10):\n",
    "        Total = Total + CurrentRate\n",
    "        CurrentRate = CurrentRate + CurrentRate*rIncrease\n",
    "    Atm = Atm + Total*0.42\n",
    "    Ocean = Ocean + Total*0.45\n",
    "    Bio = Bio + Total*0.13\n",
    "    FFuel = FFuel - Total\n",
    "    print Year\n",
    "    print \"Human Activity: \" + str(Total)\n",
    "    print \"Atmosphere: \" + str(Atm)\n",
    "    print \"Oceans: \" + str(Ocean)\n",
    "    print \"Biosphere: \" + str(Bio)\n",
    "    print \"Fossil Fuels: \" + str(FFuel)\n",
    "    Year = Year + 10\n",
    "    Total = 0\n",
    "    "
   ]
  },
  {
   "cell_type": "code",
   "execution_count": null,
   "metadata": {
    "collapsed": true
   },
   "outputs": [],
   "source": []
  }
 ],
 "metadata": {
  "kernelspec": {
   "display_name": "Python 2",
   "language": "python",
   "name": "python2"
  },
  "language_info": {
   "codemirror_mode": {
    "name": "ipython",
    "version": 2
   },
   "file_extension": ".py",
   "mimetype": "text/x-python",
   "name": "python",
   "nbconvert_exporter": "python",
   "pygments_lexer": "ipython2",
   "version": "2.7.11"
  }
 },
 "nbformat": 4,
 "nbformat_minor": 0
}
