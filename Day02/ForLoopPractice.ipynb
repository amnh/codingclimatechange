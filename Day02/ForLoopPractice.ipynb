{
 "cells": [
  {
   "cell_type": "code",
   "execution_count": null,
   "metadata": {
    "collapsed": false
   },
   "outputs": [],
   "source": [
    "continents = [\"North America\",\"South America\",\"Africa\",\"Europe\",\n",
    "              \"Asia\",\"Antarctica\",\"Australia\"]\n",
    "\n",
    "for location in continents:\n",
    "    print \"I have destroyed \" + location\n",
    "print \"I have destroyed the world! (:\"\n"
   ]
  },
  {
   "cell_type": "code",
   "execution_count": 5,
   "metadata": {
    "collapsed": false
   },
   "outputs": [
    {
     "name": "stdout",
     "output_type": "stream",
     "text": [
      "1. Move forward\n",
      "2. Move left\n",
      "3. Move right\n",
      "4. Move backward\n"
     ]
    }
   ],
   "source": [
    "options = [\"Move forward\",\"Move left\",\"Move right\",\"Move backward\"]\n",
    "\n",
    "for i in range(len(options)):\n",
    "    print str(i+1) + \". \" + options[i]\n",
    "    \n",
    "#what do you think str() does to the variable i?\n",
    "#what happens if you take it out?\n",
    "#why did we add 1 to i before printing it out?"
   ]
  },
  {
   "cell_type": "code",
   "execution_count": 10,
   "metadata": {
    "collapsed": false
   },
   "outputs": [
    {
     "name": "stdout",
     "output_type": "stream",
     "text": [
      "James is 5.5 feet tall.\n",
      "Anita is 4.8 feet tall.\n",
      "Elias is 6.2 feet tall.\n",
      "Julia is 5.8 feet tall.\n"
     ]
    }
   ],
   "source": [
    "names = [\"James\",\"Anita\",\"Elias\",\"Julia\"]\n",
    "heights = [5.5,4.8,6.2,5.8]\n",
    "\n",
    "for i in range(len(heights)):\n",
    "    print names[i] +\" is \" + str(heights[i]) + \" feet tall.\"\n"
   ]
  },
  {
   "cell_type": "code",
   "execution_count": 6,
   "metadata": {
    "collapsed": false
   },
   "outputs": [
    {
     "name": "stdout",
     "output_type": "stream",
     "text": [
      "5\n",
      "total = 0\n",
      "testScores[i] = 10\n",
      "total = 10\n",
      "testScores[i] = 20\n",
      "total = 30\n",
      "testScores[i] = 88\n",
      "total = 118\n",
      "testScores[i] = 97\n",
      "total = 215\n",
      "testScores[i] = 94\n",
      "total =  309\n",
      "61\n"
     ]
    }
   ],
   "source": [
    "#find your average test grade from the test scores below\n",
    "\n",
    "testScores = [10,20,88,97,94]\n",
    "print len(testScores)\n",
    "\n",
    "total = 0\n",
    "for i in range(len(testScores)):\n",
    "    print \"total =\",total\n",
    "    print \"testScores[i] =\",testScores[i]\n",
    "    total = total + testScores[i]\n",
    "\n",
    "print \"total = \",total\n",
    "average = (total)/len(testScores)\n",
    "print average\n",
    "\n",
    "#is this totally accurate?\n",
    "#what data type might make it clearer?"
   ]
  },
  {
   "cell_type": "code",
   "execution_count": 4,
   "metadata": {
    "collapsed": false
   },
   "outputs": [
    {
     "name": "stdout",
     "output_type": "stream",
     "text": [
      "61.8\n"
     ]
    }
   ],
   "source": [
    "#find your average test grade from the test scores below\n",
    "\n",
    "testScores = [10,20,88,97,94.0]\n",
    "\n",
    "#print average"
   ]
  },
  {
   "cell_type": "code",
   "execution_count": null,
   "metadata": {
    "collapsed": true
   },
   "outputs": [],
   "source": []
  }
 ],
 "metadata": {
  "anaconda-cloud": {},
  "kernelspec": {
   "display_name": "Python [Root]",
   "language": "python",
   "name": "Python [Root]"
  },
  "language_info": {
   "codemirror_mode": {
    "name": "ipython",
    "version": 2
   },
   "file_extension": ".py",
   "mimetype": "text/x-python",
   "name": "python",
   "nbconvert_exporter": "python",
   "pygments_lexer": "ipython2",
   "version": "2.7.12"
  }
 },
 "nbformat": 4,
 "nbformat_minor": 0
}
