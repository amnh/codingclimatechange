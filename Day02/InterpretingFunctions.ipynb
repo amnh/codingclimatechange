{
 "cells": [
  {
   "cell_type": "markdown",
   "metadata": {
    "collapsed": true
   },
   "source": [
    "#Test the functions below by highlighting the cell and clicking the play button"
   ]
  },
  {
   "cell_type": "code",
   "execution_count": null,
   "metadata": {
    "collapsed": false
   },
   "outputs": [],
   "source": [
    "def excitement():\n",
    "    return \"I am excited to be here!\"\n",
    "\n",
    "print excitement()"
   ]
  },
  {
   "cell_type": "code",
   "execution_count": null,
   "metadata": {
    "collapsed": false
   },
   "outputs": [],
   "source": [
    "def findMax(temp):\n",
    "    s = max(temp)\n",
    "    return s\n",
    "\n",
    "t = [45, 32, 46, 23, 37, 42]\n",
    "print findMax(t)"
   ]
  },
  {
   "cell_type": "code",
   "execution_count": null,
   "metadata": {
    "collapsed": false
   },
   "outputs": [],
   "source": [
    "def diff(avg, new):\n",
    "    d = avg - new\n",
    "    return d\n",
    "\n",
    "print diff(43, 39)"
   ]
  },
  {
   "cell_type": "code",
   "execution_count": null,
   "metadata": {
    "collapsed": false
   },
   "outputs": [],
   "source": [
    "def multfive(num):\n",
    "    y = num*5\n",
    "    return y\n",
    "\n",
    "print multfive(13)"
   ]
  },
  {
   "cell_type": "code",
   "execution_count": null,
   "metadata": {
    "collapsed": false
   },
   "outputs": [],
   "source": [
    "def tip(bill):\n",
    "     t = bill*0.18\n",
    "     total = bill + t\n",
    "     return total\n",
    "\n",
    "print tip(34)"
   ]
  }
 ],
 "metadata": {
  "kernelspec": {
   "display_name": "Python 2",
   "language": "python",
   "name": "python2"
  },
  "language_info": {
   "codemirror_mode": {
    "name": "ipython",
    "version": 2
   },
   "file_extension": ".py",
   "mimetype": "text/x-python",
   "name": "python",
   "nbconvert_exporter": "python",
   "pygments_lexer": "ipython2",
   "version": "2.7.11"
  }
 },
 "nbformat": 4,
 "nbformat_minor": 0
}
