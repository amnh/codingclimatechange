{
 "cells": [
  {
   "cell_type": "markdown",
   "metadata": {},
   "source": [
    "# Store Data\n",
    "\n",
    "We'll make a list of nine elements recording how often we were in each step of the water cycle.  The order we'll use is:\n",
    "0. Plant\n",
    "1. Animal\n",
    "2. Soil\n",
    "3. Ground Water\n",
    "4. Lake\n",
    "5. River\n",
    "6. Glacier\n",
    "7. Ocean\n",
    "8. Clouds\n",
    "\n",
    "So the list [3, 0, 2, 1, 1, 4, 2, 1, 2] would mean that your water droplet spent three turns in a plant, none in an animal, 2 in soil, 1 in ground water, 1 in a lake, 4 in a river, 2 in a glacier, 1 in an ocean, and 2 in clouds."
   ]
  },
  {
   "cell_type": "code",
   "execution_count": 1,
   "metadata": {
    "collapsed": false
   },
   "outputs": [
    {
     "ename": "NameError",
     "evalue": "name 'labels' is not defined",
     "output_type": "error",
     "traceback": [
      "\u001b[0;31m---------------------------------------------------------------------------\u001b[0m",
      "\u001b[0;31mNameError\u001b[0m                                 Traceback (most recent call last)",
      "\u001b[0;32m<ipython-input-1-b92501aca094>\u001b[0m in \u001b[0;36m<module>\u001b[0;34m()\u001b[0m\n\u001b[1;32m      6\u001b[0m \u001b[0mex\u001b[0m \u001b[0;34m=\u001b[0m \u001b[0;34m[\u001b[0m\u001b[0;36m3\u001b[0m\u001b[0;34m,\u001b[0m \u001b[0;36m0\u001b[0m\u001b[0;34m,\u001b[0m \u001b[0;36m2\u001b[0m\u001b[0;34m,\u001b[0m \u001b[0;36m1\u001b[0m\u001b[0;34m,\u001b[0m \u001b[0;36m1\u001b[0m\u001b[0;34m,\u001b[0m \u001b[0;36m4\u001b[0m\u001b[0;34m,\u001b[0m \u001b[0;36m2\u001b[0m\u001b[0;34m,\u001b[0m \u001b[0;36m1\u001b[0m\u001b[0;34m,\u001b[0m \u001b[0;36m2\u001b[0m\u001b[0;34m]\u001b[0m\u001b[0;34m\u001b[0m\u001b[0m\n\u001b[1;32m      7\u001b[0m \u001b[0mcycle\u001b[0m \u001b[0;34m=\u001b[0m \u001b[0;34m[\u001b[0m\u001b[0;34m\"Plant\"\u001b[0m\u001b[0;34m,\u001b[0m \u001b[0;34m\"Animal\"\u001b[0m\u001b[0;34m,\u001b[0m \u001b[0;34m\"Soil\"\u001b[0m\u001b[0;34m,\u001b[0m \u001b[0;34m\"Ground Water\"\u001b[0m\u001b[0;34m,\u001b[0m \u001b[0;34m\"Lake\"\u001b[0m\u001b[0;34m,\u001b[0m \u001b[0;34m\"River\"\u001b[0m\u001b[0;34m,\u001b[0m \u001b[0;34m\"Glacier\"\u001b[0m\u001b[0;34m,\u001b[0m \u001b[0;34m\"Ocean\"\u001b[0m\u001b[0;34m,\u001b[0m \u001b[0;34m\"Clouds\"\u001b[0m\u001b[0;34m]\u001b[0m\u001b[0;34m\u001b[0m\u001b[0m\n\u001b[0;32m----> 8\u001b[0;31m \u001b[0mxPos\u001b[0m \u001b[0;34m=\u001b[0m \u001b[0mnp\u001b[0m\u001b[0;34m.\u001b[0m\u001b[0marange\u001b[0m\u001b[0;34m(\u001b[0m\u001b[0mlen\u001b[0m\u001b[0;34m(\u001b[0m\u001b[0mlabels\u001b[0m\u001b[0;34m)\u001b[0m\u001b[0;34m)\u001b[0m\u001b[0;34m\u001b[0m\u001b[0m\n\u001b[0m\u001b[1;32m      9\u001b[0m \u001b[0;34m\u001b[0m\u001b[0m\n\u001b[1;32m     10\u001b[0m \u001b[0;31m#make a horizontal bar graph\u001b[0m\u001b[0;34m\u001b[0m\u001b[0;34m\u001b[0m\u001b[0m\n",
      "\u001b[0;31mNameError\u001b[0m: name 'labels' is not defined"
     ]
    }
   ],
   "source": [
    "%matplotlib inline\n",
    "import matplotlib.pyplot as plt\n",
    "import numpy as np\n",
    "\n",
    "#define our example list and its labels\n",
    "ex = [3, 0, 2, 1, 1, 4, 2, 1, 2]\n",
    "cycle = [\"Plant\", \"Animal\", \"Soil\", \"Ground Water\", \"Lake\", \"River\", \"Glacier\", \"Ocean\", \"Clouds\"]\n",
    "xPos = np.arange(len(cycle))\n",
    "\n",
    "#make a horizontal bar graph\n",
    "plt.barh(xPos, ex)\n",
    "plt.yticks(xPos, cycle)"
   ]
  },
  {
   "cell_type": "code",
   "execution_count": null,
   "metadata": {
    "collapsed": false
   },
   "outputs": [],
   "source": [
    "#now make a pie chart\n",
    "plt.pie(ex, labels = cycle)"
   ]
  },
  {
   "cell_type": "code",
   "execution_count": null,
   "metadata": {
    "collapsed": false
   },
   "outputs": [],
   "source": [
    "#Now assume the summed up ones are as below and make similar charts\n",
    "summed = [20, 19, 30, 22, 18, 15, 25, 31, 26]\n",
    "plt.barh(xPos, summed)\n",
    "plt.yticks(xPos, cycle)"
   ]
  },
  {
   "cell_type": "code",
   "execution_count": null,
   "metadata": {
    "collapsed": false
   },
   "outputs": [],
   "source": [
    "plt.pie(summed, labels = cycle)"
   ]
  },
  {
   "cell_type": "code",
   "execution_count": null,
   "metadata": {
    "collapsed": false
   },
   "outputs": [],
   "source": [
    "#Now let's classify by phase and do a pie chart again\n",
    "#The phases go in order: solid, liquid, gas\n",
    "phaseList = [summed[6], summed[0] + summed[1] + summed[3] + summed[4] + summed[5] + summed[7], summed[8]]\n",
    "phaseLabels = [\"Solid\", \"Liquid\", \"Gas\"]\n",
    "plt.pie(phaseList, labels = phaseLabels)"
   ]
  },
  {
   "cell_type": "code",
   "execution_count": null,
   "metadata": {
    "collapsed": true
   },
   "outputs": [],
   "source": []
  }
 ],
 "metadata": {
  "kernelspec": {
   "display_name": "Python 2",
   "language": "python",
   "name": "python2"
  },
  "language_info": {
   "codemirror_mode": {
    "name": "ipython",
    "version": 2
   },
   "file_extension": ".py",
   "mimetype": "text/x-python",
   "name": "python",
   "nbconvert_exporter": "python",
   "pygments_lexer": "ipython2",
   "version": "2.7.11"
  }
 },
 "nbformat": 4,
 "nbformat_minor": 0
}
