{
 "cells": [
  {
   "cell_type": "markdown",
   "metadata": {},
   "source": [
    "# Store Data\n",
    "\n",
    "We'll make a list of nine elements recording how often we were in each step of the water cycle.  The order we'll use is:\n",
    "0. Plant\n",
    "1. Animal\n",
    "2. Soil\n",
    "3. Ground Water\n",
    "4. Lake\n",
    "5. River\n",
    "6. Glacier\n",
    "7. Ocean\n",
    "8. Clouds\n",
    "\n",
    "So the list [3, 0, 2, 1, 1, 4, 2, 1, 2] would mean that your water droplet spent three turns in a plant, none in an animal, 2 in soil, 1 in ground water, 1 in a lake, 4 in a river, 2 in a glacier, 1 in an ocean, and 2 in clouds."
   ]
  },
  {
   "cell_type": "code",
   "execution_count": 4,
   "metadata": {
    "collapsed": false
   },
   "outputs": [
    {
     "data": {
      "text/plain": [
       "([<matplotlib.axis.YTick at 0x10807ea50>,\n",
       "  <matplotlib.axis.YTick at 0x10807ecd0>,\n",
       "  <matplotlib.axis.YTick at 0x1061a25d0>,\n",
       "  <matplotlib.axis.YTick at 0x1080d5290>,\n",
       "  <matplotlib.axis.YTick at 0x1080d59d0>,\n",
       "  <matplotlib.axis.YTick at 0x1080e0150>,\n",
       "  <matplotlib.axis.YTick at 0x1080e0890>,\n",
       "  <matplotlib.axis.YTick at 0x1080e0fd0>,\n",
       "  <matplotlib.axis.YTick at 0x1080ea750>],\n",
       " <a list of 9 Text yticklabel objects>)"
      ]
     },
     "execution_count": 4,
     "metadata": {},
     "output_type": "execute_result"
    },
    {
     "data": {
      "image/png": "[encoded data removed]",
      "text/plain": [
       "<matplotlib.figure.Figure at 0x107e1a950>"
      ]
     },
     "metadata": {},
     "output_type": "display_data"
    }
   ],
   "source": [
    "%matplotlib inline\n",
    "import matplotlib.pyplot as plt\n",
    "import numpy as np\n",
    "\n",
    "#define our list and its labels. You need to fill in the numbers list.\n",
    "numbers = [3, 0, 2, 1, 1, 4, 2, 1, 2]\n",
    "cycle = [\"Plant\", \"Animal\", \"Soil\", \"Ground Water\", \"Lake\", \"River\", \"Glacier\", \"Ocean\", \"Clouds\"]\n",
    "xPos = np.arange(len(cycle))\n",
    "\n",
    "#make a horizontal bar graph\n",
    "plt.barh(xPos, numbers, color = (0, 1, 1))\n",
    "plt.yticks(xPos, cycle)"
   ]
  },
  {
   "cell_type": "code",
   "execution_count": null,
   "metadata": {
    "collapsed": false
   },
   "outputs": [],
   "source": [
    "#now make a pie chart\n",
    "plt.pie(ex, labels = cycle)"
   ]
  },
  {
   "cell_type": "code",
   "execution_count": null,
   "metadata": {
    "collapsed": false
   },
   "outputs": [],
   "source": [
    "#Now assume the summed up ones are as below and make similar charts\n",
    "summed = [20, 19, 30, 22, 18, 15, 25, 31, 26]\n",
    "plt.barh(xPos, summed)\n",
    "plt.yticks(xPos, cycle)"
   ]
  },
  {
   "cell_type": "code",
   "execution_count": null,
   "metadata": {
    "collapsed": false
   },
   "outputs": [],
   "source": [
    "plt.pie(summed, labels = cycle)"
   ]
  },
  {
   "cell_type": "code",
   "execution_count": null,
   "metadata": {
    "collapsed": false
   },
   "outputs": [],
   "source": [
    "#Now let's classify by phase and do a pie chart again\n",
    "#The phases go in order: solid, liquid, gas\n",
    "phaseList = [summed[6], summed[0] + summed[1] + summed[3] + summed[4] + summed[5] + summed[7], summed[8]]\n",
    "phaseLabels = [\"Solid\", \"Liquid\", \"Gas\"]\n",
    "plt.pie(phaseList, labels = phaseLabels)"
   ]
  },
  {
   "cell_type": "code",
   "execution_count": null,
   "metadata": {
    "collapsed": true
   },
   "outputs": [],
   "source": []
  }
 ],
 "metadata": {
  "kernelspec": {
   "display_name": "Python 2",
   "language": "python",
   "name": "python2"
  },
  "language_info": {
   "codemirror_mode": {
    "name": "ipython",
    "version": 2
   },
   "file_extension": ".py",
   "mimetype": "text/x-python",
   "name": "python",
   "nbconvert_exporter": "python",
   "pygments_lexer": "ipython2",
   "version": "2.7.11"
  }
 },
 "nbformat": 4,
 "nbformat_minor": 0
}
