{
 "cells": [
  {
   "cell_type": "code",
   "execution_count": null,
   "metadata": {
    "collapsed": false
   },
   "outputs": [],
   "source": [
    "print range(10)"
   ]
  },
  {
   "cell_type": "code",
   "execution_count": null,
   "metadata": {
    "collapsed": false
   },
   "outputs": [],
   "source": [
    "for i in range(4):\n",
    "    print i"
   ]
  },
  {
   "cell_type": "code",
   "execution_count": null,
   "metadata": {
    "collapsed": false
   },
   "outputs": [],
   "source": [
    "numbers = [2, 4, 7, 1, 3]\n",
    "\n",
    "for i in range(len(numbers)):\n",
    "    numbers[i] = numbers[i]*5\n",
    "print numbers"
   ]
  },
  {
   "cell_type": "code",
   "execution_count": null,
   "metadata": {
    "collapsed": false
   },
   "outputs": [],
   "source": [
    "# Modify this code so that it adds 3 to all the numbers in the list\n",
    "\n",
    "numbers = [2, 4, 7, 1, 3]\n",
    "\n",
    "for i in range(len(numbers)):\n",
    "    numbers[i] = numbers[i]\n",
    "print numbers"
   ]
  },
  {
   "cell_type": "code",
   "execution_count": null,
   "metadata": {
    "collapsed": true
   },
   "outputs": [],
   "source": [
    "# Modify this code so that it adds 0 to the first number, 1 to the next number, 2 to the next number and so on.\n",
    "\n",
    "numbers = [2, 4, 7, 1, 3]\n",
    "\n",
    "for i in range(len(numbers)):\n",
    "    numbers[i] = numbers[i]\n",
    "print numbers"
   ]
  },
  {
   "cell_type": "code",
   "execution_count": null,
   "metadata": {
    "collapsed": false
   },
   "outputs": [],
   "source": [
    "# The last program is a simplified version of the Habitable Planet simulation\n",
    "rIncrease = 0.02\n",
    "CurrentRate = 8.9\n",
    "Total = 0\n",
    "\n",
    "Year = 2010\n",
    "Atm = 750\n",
    "Ocean = 39000\n",
    "Bio = 2700\n",
    "FFuel = 4000\n",
    "\n",
    "steps = 5\n",
    "\n",
    "for i in range(steps):\n",
    "    for j in range(10):\n",
    "        Total = Total + CurrentRate\n",
    "        CurrentRate = CurrentRate + CurrentRate*rIncrease\n",
    "    Atm = Atm + Total*0.42\n",
    "    Ocean = Ocean + Total*0.45\n",
    "    Bio = Bio + Total*0.13\n",
    "    FFuel = FFuel - Total\n",
    "    print Year\n",
    "    print \"Human Activity: \" + str(Total)\n",
    "    print \"Atmosphere: \" + str(Atm)\n",
    "    print \"Oceans: \" + str(Ocean)\n",
    "    print \"Biosphere: \" + str(Bio)\n",
    "    print \"Fossil Fuels: \" + str(FFuel)\n",
    "    Year = Year + 10\n",
    "    Total = 0\n",
    "    "
   ]
  },
  {
   "cell_type": "code",
   "execution_count": null,
   "metadata": {
    "collapsed": true
   },
   "outputs": [],
   "source": []
  }
 ],
 "metadata": {
  "anaconda-cloud": {},
  "kernelspec": {
   "display_name": "Python [Root]",
   "language": "python",
   "name": "Python [Root]"
  },
  "language_info": {
   "codemirror_mode": {
    "name": "ipython",
    "version": 2
   },
   "file_extension": ".py",
   "mimetype": "text/x-python",
   "name": "python",
   "nbconvert_exporter": "python",
   "pygments_lexer": "ipython2",
   "version": "2.7.12"
  }
 },
 "nbformat": 4,
 "nbformat_minor": 0
}
