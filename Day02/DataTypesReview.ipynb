{
 "cells": [
  {
   "cell_type": "code",
   "execution_count": 1,
   "metadata": {
    "collapsed": false
   },
   "outputs": [
    {
     "name": "stdout",
     "output_type": "stream",
     "text": [
      "9\n",
      "[1, 2, 3, 4, 5]\n"
     ]
    },
    {
     "ename": "TypeError",
     "evalue": "can only concatenate list (not \"int\") to list",
     "output_type": "error",
     "traceback": [
      "\u001b[0;31m---------------------------------------------------------------------------\u001b[0m",
      "\u001b[0;31mTypeError\u001b[0m                                 Traceback (most recent call last)",
      "\u001b[0;32m<ipython-input-1-c71db3b5906c>\u001b[0m in \u001b[0;36m<module>\u001b[0;34m()\u001b[0m\n\u001b[1;32m      9\u001b[0m \u001b[0;32mprint\u001b[0m \u001b[0my\u001b[0m \u001b[0;34m+\u001b[0m \u001b[0mz\u001b[0m\u001b[0;34m\u001b[0m\u001b[0m\n\u001b[1;32m     10\u001b[0m \u001b[0;34m\u001b[0m\u001b[0m\n\u001b[0;32m---> 11\u001b[0;31m \u001b[0;32mprint\u001b[0m \u001b[0my\u001b[0m \u001b[0;34m+\u001b[0m \u001b[0ma\u001b[0m\u001b[0;34m\u001b[0m\u001b[0m\n\u001b[0m",
      "\u001b[0;31mTypeError\u001b[0m: can only concatenate list (not \"int\") to list"
     ]
    }
   ],
   "source": [
    "#Snippet 1: Adding is weird\n",
    "a = 4\n",
    "b = 5\n",
    "y = [1, 2, 3]\n",
    "z = [4, 5]\n",
    "\n",
    "print a + b\n",
    "\n",
    "print y + z\n",
    "\n",
    "print y + a"
   ]
  },
  {
   "cell_type": "code",
   "execution_count": 2,
   "metadata": {
    "collapsed": false
   },
   "outputs": [
    {
     "name": "stdout",
     "output_type": "stream",
     "text": [
      "['Hello', 'everyone']\n",
      "14\n",
      "Hello everyoneGoodbye everyone\n"
     ]
    }
   ],
   "source": [
    "#Snippet 2: Strings are handy\n",
    "greeting = \"Hello everyone\"\n",
    "bye = \"Goodbye everyone\"\n",
    "\n",
    "print greeting.split()\n",
    "\n",
    "print len(greeting)\n",
    "\n",
    "print greeting + bye"
   ]
  },
  {
   "cell_type": "code",
   "execution_count": 3,
   "metadata": {
    "collapsed": false
   },
   "outputs": [
    {
     "name": "stdout",
     "output_type": "stream",
     "text": [
      "1.33333333333\n",
      "1\n"
     ]
    }
   ],
   "source": [
    "#Snippet 3: Be careful with division\n",
    "a = 4\n",
    "b = 3.0\n",
    "c = 3\n",
    "\n",
    "print a / b\n",
    "\n",
    "print a / c"
   ]
  },
  {
   "cell_type": "code",
   "execution_count": 4,
   "metadata": {
    "collapsed": false
   },
   "outputs": [
    {
     "name": "stdout",
     "output_type": "stream",
     "text": [
      "[['Jack', 'Amayna', 'Lola'], ['Paola', 'John', 'Alex']]\n"
     ]
    }
   ],
   "source": [
    "#Snippet 4: Something different\n",
    "group1 = [\"Jack\", \"Amayna\", \"Lola\"]\n",
    "group2 = [\"Paola\", \"John\", \"Alex\"]\n",
    "groups = [group1, group2]\n",
    "\n",
    "print groups"
   ]
  },
  {
   "cell_type": "code",
   "execution_count": null,
   "metadata": {
    "collapsed": true
   },
   "outputs": [],
   "source": []
  }
 ],
 "metadata": {
  "kernelspec": {
   "display_name": "Python 2",
   "language": "python",
   "name": "python2"
  },
  "language_info": {
   "codemirror_mode": {
    "name": "ipython",
    "version": 2
   },
   "file_extension": ".py",
   "mimetype": "text/x-python",
   "name": "python",
   "nbconvert_exporter": "python",
   "pygments_lexer": "ipython2",
   "version": "2.7.11"
  }
 },
 "nbformat": 4,
 "nbformat_minor": 0
}
