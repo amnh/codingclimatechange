{
 "cells": [
  {
   "cell_type": "code",
   "execution_count": null,
   "metadata": {
    "collapsed": false
   },
   "outputs": [],
   "source": [
    "#Numbers: Intergers and Floats\n",
    "\n",
    "num1 = 3\n",
    "num2 = 2.5\n",
    "num3 = 15\n",
    "\n",
    "print num1 + num2     #Adds numbers together\n",
    "print num1 - num2     #Subtract\n",
    "print num3/num1       #Divide\n",
    "print num2*num3       #Multiply"
   ]
  },
  {
   "cell_type": "code",
   "execution_count": null,
   "metadata": {
    "collapsed": true
   },
   "outputs": [],
   "source": [
    "#Strings\n",
    "\n",
    "str = \"You dress for the weather. You build your house for the climate.\"\n",
    "\n",
    "print str        #prints the string\n",
    "print len(str)   #number of characters in the string\n",
    "print str[0]     #prints the character at a specific spot in the string\n",
    "print str + \"The climate is changing.\"      #Adds two strings together"
   ]
  },
  {
   "cell_type": "code",
   "execution_count": null,
   "metadata": {
    "collapsed": true
   },
   "outputs": [],
   "source": [
    "#Lists\n",
    "\n",
    "lst1 = [3, 7, 12, 18, 25, 33, 42]\n",
    "lst2 = [\"Kenya\", \"Moracco\", \"Indonesia\", \"Germany\"]\n",
    "\n",
    "print lst1        #prints the list\n",
    "print lst2\n",
    "print len(lst1)   #how many objects are in the list\n",
    "print lst2[2]     #prints the object at a specific spot in the list\n",
    "\n",
    "lst2.sort()       #sorts the list\n",
    "print lst2"
   ]
  }
 ],
 "metadata": {
  "kernelspec": {
   "display_name": "Python 2",
   "language": "python",
   "name": "python2"
  },
  "language_info": {
   "codemirror_mode": {
    "name": "ipython",
    "version": 2
   },
   "file_extension": ".py",
   "mimetype": "text/x-python",
   "name": "python",
   "nbconvert_exporter": "python",
   "pygments_lexer": "ipython2",
   "version": "2.7.11"
  }
 },
 "nbformat": 4,
 "nbformat_minor": 0
}
