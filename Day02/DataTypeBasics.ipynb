{
 "cells": [
  {
   "cell_type": "code",
   "execution_count": 1,
   "metadata": {
    "collapsed": false
   },
   "outputs": [
    {
     "name": "stdout",
     "output_type": "stream",
     "text": [
      "5.5\n",
      "0.5\n",
      "5\n",
      "37.5\n"
     ]
    }
   ],
   "source": [
    "#Numbers: Intergers and Floats\n",
    "\n",
    "num1 = 3\n",
    "num2 = 2.5\n",
    "num3 = 15\n",
    "\n",
    "print num1 + num2     #Adds numbers together\n",
    "print num1 - num2     #Subtract\n",
    "print num3/num1       #Divide\n",
    "print num2*num3       #Multiply"
   ]
  },
  {
   "cell_type": "code",
   "execution_count": 5,
   "metadata": {
    "collapsed": false
   },
   "outputs": [
    {
     "name": "stdout",
     "output_type": "stream",
     "text": [
      "You dress for the weather. You build your house for the climate.\n",
      "64\n",
      "Y\n",
      "You dress for the weather. You build your house for the climate.The climate is changing.\n",
      "You dress for the weather. You build your house for the climate. The climate is changing.\n"
     ]
    }
   ],
   "source": [
    "#Strings\n",
    "\n",
    "str = \"You dress for the weather. You build your house for the climate.\"\n",
    "\n",
    "print str        #prints the string\n",
    "print len(str)   #number of characters in the string\n",
    "print str[0]     #prints the character at a specific spot in the string\n",
    "print str + \"The climate is changing.\"      #Adds two strings together\n",
    "print str + \" The climate is changing.\"     #Add two strings, and don't forget the space!"
   ]
  },
  {
   "cell_type": "code",
   "execution_count": 4,
   "metadata": {
    "collapsed": false
   },
   "outputs": [
    {
     "name": "stdout",
     "output_type": "stream",
     "text": [
      "[3, 7, 12, 18, 25, 33, 42]\n",
      "['Kenya', 'Moracco', 'Indonesia', 'Germany']\n",
      "7\n",
      "Indonesia\n",
      "['Germany', 'Indonesia', 'Kenya', 'Moracco']\n"
     ]
    }
   ],
   "source": [
    "#Lists\n",
    "\n",
    "lst1 = [3, 7, 12, 18, 25, 33, 42]\n",
    "lst2 = [\"Kenya\", \"Moracco\", \"Indonesia\", \"Germany\"]\n",
    "\n",
    "print lst1        #prints the list\n",
    "print lst2\n",
    "print len(lst1)   #how many objects are in the list\n",
    "print lst2[2]     #prints the object at a specific spot in the list\n",
    "\n",
    "lst2.sort()       #sorts the list\n",
    "print lst2"
   ]
  },
  {
   "cell_type": "code",
   "execution_count": null,
   "metadata": {
    "collapsed": true
   },
   "outputs": [],
   "source": []
  }
 ],
 "metadata": {
  "kernelspec": {
   "display_name": "Python 2",
   "language": "python",
   "name": "python2"
  },
  "language_info": {
   "codemirror_mode": {
    "name": "ipython",
    "version": 2
   },
   "file_extension": ".py",
   "mimetype": "text/x-python",
   "name": "python",
   "nbconvert_exporter": "python",
   "pygments_lexer": "ipython2",
   "version": "2.7.11"
  }
 },
 "nbformat": 4,
 "nbformat_minor": 0
}
