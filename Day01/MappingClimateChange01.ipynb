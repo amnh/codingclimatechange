{
 "cells": [
  {
   "cell_type": "markdown",
   "metadata": {},
   "source": [
    "Prototype code for Middle School coding/climate curriculum\n",
    "Written by Grace Newman "
   ]
  },
  {
   "cell_type": "code",
   "execution_count": 9,
   "metadata": {
    "collapsed": false
   },
   "outputs": [],
   "source": [
    "from PIL import Image\n",
    "from PIL import ImageOps\n",
    "import csv\n",
    "\n",
    "\n",
    "def main():\n",
    "    stringReadin = readInCSVToString(\"LandTempDec15Big.csv\")\n",
    "    floatData = stringDataToFloat(stringReadin)\n",
    "    makeAndFillImg(floatData)\n",
    "\n",
    "\n",
    "def readInCSVToString(filepath):\n",
    "    csvfile = open(filepath, 'rU') \n",
    "    reader = csv.reader(csvfile, delimiter=',', quotechar='\"')\n",
    "    stringRead = []\n",
    "    for row in reader:\n",
    "        stringRead.append(row)\n",
    "    csvfile.close()\n",
    "    return stringRead\n",
    "\n",
    "\n",
    "def stringDataToFloat(stringRead):\n",
    "    finalRead = []\n",
    "    for stringRow in stringRead:\n",
    "        numRow = []\n",
    "        for stringElem in stringRow:\n",
    "            val = float(stringElem)\n",
    "            numRow.append(val)\n",
    "        finalRead.append(numRow)\n",
    "    return finalRead\n",
    "\n",
    "\n",
    "def valueToRGBBins(value):\n",
    "    if value <= -20.0:\n",
    "        return (0, 0, 102)\n",
    "    elif value <= -15.0:\n",
    "        return (0, 0, 153)\n",
    "    elif value <= -10.0:\n",
    "        return (0, 0, 204)\n",
    "    elif value <= -5.0:\n",
    "        return (0, 0, 255)\n",
    "    elif value <= 0.0:\n",
    "        return (0, 128, 255)\n",
    "    elif value <= 2.0:\n",
    "        return (0, 255, 255)\n",
    "    elif value <= 5.0:\n",
    "        return (0, 255, 128)\n",
    "    elif value <= 8.0:\n",
    "        return (0, 255, 0)\n",
    "    elif value <= 12.0:\n",
    "        return (128, 255, 0)\n",
    "    elif value <= 15.0:\n",
    "        return (153, 255, 51)\n",
    "    elif value <= 20.0:\n",
    "        return (255, 255, 0)\n",
    "    elif value <= 25.0:\n",
    "        return (255, 153, 51)\n",
    "    elif value < 30.0:\n",
    "        return (255, 128, 0)\n",
    "    elif value < 35.0:\n",
    "        return (255, 0, 0)\n",
    "    elif value < 40.0:\n",
    "        return (204, 0, 0)\n",
    "    elif value < 50.0:\n",
    "        return (153, 0, 0)\n",
    "    elif value < 60.0:\n",
    "        return (102, 0, 0)\n",
    "    else:\n",
    "        return (0, 0, 0)\n",
    "\n",
    "    \n",
    "def makeAndFillImg(data): \n",
    "\tnumRows = len(data)\n",
    "\tnumCols = len(data[0])\n",
    "\timg = Image.new('RGB', (numRows, numCols), \"blue\")\n",
    "\tpixels = img.load()\n",
    "\n",
    "\tfor i in range(img.size[0]):\n",
    "\t\tfor j in range(img.size[1]):\n",
    "\t\t\tpixels[i,j] = valueToRGBBins(data[i][j])\n",
    "\n",
    "            \n",
    "\tImageOps.mirror(img.rotate(270)).show()\n",
    "\t\n",
    "\n",
    "main()"
   ]
  },
  {
   "cell_type": "code",
   "execution_count": null,
   "metadata": {
    "collapsed": true
   },
   "outputs": [],
   "source": []
  }
 ],
 "metadata": {
  "kernelspec": {
   "display_name": "Python 2",
   "language": "python",
   "name": "python2"
  },
  "language_info": {
   "codemirror_mode": {
    "name": "ipython",
    "version": 2
   },
   "file_extension": ".py",
   "mimetype": "text/x-python",
   "name": "python",
   "nbconvert_exporter": "python",
   "pygments_lexer": "ipython2",
   "version": "2.7.11"
  }
 },
 "nbformat": 4,
 "nbformat_minor": 0
}
