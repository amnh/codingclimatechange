{
 "cells": [
  {
   "cell_type": "code",
<<<<<<< HEAD
   "execution_count": 39,
=======
<<<<<<< HEAD
   "execution_count": 5,
=======
   "execution_count": 37,
>>>>>>> dfbd45164e8637824a2993356d2a24b6e4d50257
>>>>>>> fd832aa160a45ae3300e5ef9bf241981cbe534c2
   "metadata": {
    "collapsed": false
   },
   "outputs": [],
   "source": [
    "#Prototype code for Middle School coding/climate curriculum\n",
    "#this code is a model final product for students to create\n",
    "#PrototypeVizCode.py provides a teacher prototype without black boxing\n",
    "#Written by Grace Newman, \n",
    "\n",
    "from PIL import Image\n",
    "from PIL import ImageOps\n",
    "import csv\n",
    "\n",
    "#Main function calling each of the functions in turn\n",
    "#reads in a single file and then animates several in a for loop\n",
    "#Students will modify file name\n",
    "def main():\n",
    "    stringReadin = readInCSVToString(\"SampleTempAnomalyDec15.csv\")\n",
    "    floatData = stringDataToFloat(stringReadin)\n",
    "    makeAndFillImg(floatData)\n",
    "\n",
    "\n",
    "#Function to read in a csv to a formatted string\n",
    "#also includes error chcking for problems with uneven length\n",
    "def readInCSVToString(filepath):\n",
<<<<<<< HEAD
    "    csvfile = open(filepath, 'rU') \n",
    "    reader = csv.reader(csvfile, delimiter=',', quotechar='\"')\n",
    "    stringRead = []\n",
    "    for row in reader:\n",
    "        stringRead.append(row)\n",
    "    csvfile.close()\n",
=======
    "    with open(filepath, 'rU') as csvfile:\n",
    "        reader = csv.reader(csvfile, delimiter=',', quotechar='\"')\n",
    "        stringRead = []\n",
    "        for row in reader:\n",
    "            stringRead.append(row)\n",
>>>>>>> dfbd45164e8637824a2993356d2a24b6e4d50257
    "    return stringRead\n",
    "\n",
    "#Function to convert the read-in string data to float data\n",
    "#returns the read-in data and max/min values for visualization scaling\n",
<<<<<<< HEAD
    "#students will not touch this function\n",
    "def stringDataToFloat(stringRead):\n",
    "    finalRead = []\n",
=======
    "def stringDatToFloat(stringRead):\n",
    "    finalRead = []\n",
    "    maxVal = 0\n",
    "    minVal = 1000\n",
>>>>>>> dfbd45164e8637824a2993356d2a24b6e4d50257
    "    for stringRow in stringRead:\n",
    "        numRow = []\n",
    "        for stringElem in stringRow:\n",
    "            val = float(stringElem)\n",
    "            numRow.append(val)\n",
    "        finalRead.append(numRow)\n",
    "    return finalRead\n",
    "\n",
    "#Binning color assignment using if/else blocks\n",
    "#borders can easily be changed, more added by expanding\n",
    "#input: value to convert\n",
    "#output: rgb triple\n",
    "#Students will spend most of their play time on this.\n",
    "def valueToRGBBins(value):\n",
    "    if value <= -5.0:\n",
    "        return (0, 0, 245)\n",
    "    elif value <= -3.0:\n",
    "        return (60, 180, 245)\n",
    "    elif value <= 0:\n",
    "        return (140, 219, 245)\n",
    "    elif value <= 3:\n",
    "        return (180, 240, 245)\n",
    "    elif value < 10:\n",
    "        return (245, 245, 245)\n",
    "    else:\n",
    "        return (0, 0, 0)\n",
    "\n",
    "#function to create an image and fill it with rgb values from data matrix\n",
    "def makeAndFillImg(data):\n",
    "    rows = len(data)\n",
    "    cols = len(data[0])\n",
    "    img = Image.new('RGB', (rows, cols), \"blue\")\n",
    "    pixels = img.load()\n",
    "\n",
    "    for i in range(img.size[0]):\n",
    "        for j in range(img.size[1]):\n",
    "            pixels[i,j] = valueToRGBBins(data[i][j])\n",
    "\n",
    "    overlay = Image.open(\"ContinentOverlay.png\")\n",
    "    fitOverlay = ImageOps.fit(overlay, img.size, Image.BILINEAR)\n",
    "    img.paste(fitOverlay, (0, 0), fitOverlay)\n",
    "    \n",
    "    ImageOps.mirror(img).show()\n",
    "    return img.rotate(90)\n",
    "    \n",
    "#call to main so that the whole thing runs\n",
    "main()\n"
   ]
  },
  {
   "cell_type": "code",
   "execution_count": null,
   "metadata": {
    "collapsed": true
   },
   "outputs": [],
   "source": []
<<<<<<< HEAD
=======
  },
  {
   "cell_type": "code",
   "execution_count": null,
   "metadata": {
    "collapsed": true
   },
   "outputs": [],
   "source": []
<<<<<<< HEAD
  },
  {
   "cell_type": "code",
   "execution_count": null,
   "metadata": {
    "collapsed": true
   },
   "outputs": [],
   "source": []
=======
>>>>>>> dfbd45164e8637824a2993356d2a24b6e4d50257
>>>>>>> fd832aa160a45ae3300e5ef9bf241981cbe534c2
  }
 ],
 "metadata": {
  "kernelspec": {
   "display_name": "Python 2",
   "language": "python",
   "name": "python2"
  },
  "language_info": {
   "codemirror_mode": {
    "name": "ipython",
    "version": 2
   },
   "file_extension": ".py",
   "mimetype": "text/x-python",
   "name": "python",
   "nbconvert_exporter": "python",
   "pygments_lexer": "ipython2",
   "version": "2.7.11"
  }
 },
 "nbformat": 4,
 "nbformat_minor": 0
}
