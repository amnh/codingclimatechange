{
 "cells": [
  {
   "cell_type": "code",
   "execution_count": 1,
   "metadata": {
    "collapsed": false
   },
   "outputs": [
    {
     "ename": "IOError",
     "evalue": "[Errno 2] No such file or directory: 'SampleClimate.csv'",
     "output_type": "error",
     "traceback": [
      "\u001b[0;31m---------------------------------------------------------------------------\u001b[0m",
      "\u001b[0;31mIOError\u001b[0m                                   Traceback (most recent call last)",
      "\u001b[0;32m<ipython-input-1-60da7da5ecb9>\u001b[0m in \u001b[0;36m<module>\u001b[0;34m()\u001b[0m\n\u001b[1;32m     74\u001b[0m \u001b[0;34m\u001b[0m\u001b[0m\n\u001b[1;32m     75\u001b[0m \u001b[0;31m#call to main so that the whole thing runs\u001b[0m\u001b[0;34m\u001b[0m\u001b[0;34m\u001b[0m\u001b[0m\n\u001b[0;32m---> 76\u001b[0;31m \u001b[0mmain\u001b[0m\u001b[0;34m(\u001b[0m\u001b[0;34m)\u001b[0m\u001b[0;34m\u001b[0m\u001b[0m\n\u001b[0m",
      "\u001b[0;32m<ipython-input-1-60da7da5ecb9>\u001b[0m in \u001b[0;36mmain\u001b[0;34m()\u001b[0m\n\u001b[1;32m     11\u001b[0m \u001b[0;31m#Students will modify file name\u001b[0m\u001b[0;34m\u001b[0m\u001b[0;34m\u001b[0m\u001b[0m\n\u001b[1;32m     12\u001b[0m \u001b[0;32mdef\u001b[0m \u001b[0mmain\u001b[0m\u001b[0;34m(\u001b[0m\u001b[0;34m)\u001b[0m\u001b[0;34m:\u001b[0m\u001b[0;34m\u001b[0m\u001b[0m\n\u001b[0;32m---> 13\u001b[0;31m         \u001b[0mstringReadin\u001b[0m \u001b[0;34m=\u001b[0m \u001b[0mreadInCSVToString\u001b[0m\u001b[0;34m(\u001b[0m\u001b[0;34m\"SampleClimate.csv\"\u001b[0m\u001b[0;34m)\u001b[0m\u001b[0;34m\u001b[0m\u001b[0m\n\u001b[0m\u001b[1;32m     14\u001b[0m         \u001b[0mfloatData\u001b[0m \u001b[0;34m=\u001b[0m \u001b[0mstringDataToFloat\u001b[0m\u001b[0;34m(\u001b[0m\u001b[0mstringReadin\u001b[0m\u001b[0;34m)\u001b[0m\u001b[0;34m\u001b[0m\u001b[0m\n\u001b[1;32m     15\u001b[0m         \u001b[0mmakeAndFillImg\u001b[0m\u001b[0;34m(\u001b[0m\u001b[0mfloatData\u001b[0m\u001b[0;34m)\u001b[0m\u001b[0;34m\u001b[0m\u001b[0m\n",
      "\u001b[0;32m<ipython-input-1-60da7da5ecb9>\u001b[0m in \u001b[0;36mreadInCSVToString\u001b[0;34m(filepath)\u001b[0m\n\u001b[1;32m     20\u001b[0m \u001b[0;31m#Students will not touch this function\u001b[0m\u001b[0;34m\u001b[0m\u001b[0;34m\u001b[0m\u001b[0m\n\u001b[1;32m     21\u001b[0m \u001b[0;32mdef\u001b[0m \u001b[0mreadInCSVToString\u001b[0m\u001b[0;34m(\u001b[0m\u001b[0mfilepath\u001b[0m\u001b[0;34m)\u001b[0m\u001b[0;34m:\u001b[0m\u001b[0;34m\u001b[0m\u001b[0m\n\u001b[0;32m---> 22\u001b[0;31m         \u001b[0mcsvfile\u001b[0m \u001b[0;34m=\u001b[0m \u001b[0mopen\u001b[0m\u001b[0;34m(\u001b[0m\u001b[0mfilepath\u001b[0m\u001b[0;34m,\u001b[0m \u001b[0;34m'r'\u001b[0m\u001b[0;34m)\u001b[0m\u001b[0;34m\u001b[0m\u001b[0m\n\u001b[0m\u001b[1;32m     23\u001b[0m         \u001b[0mreader\u001b[0m \u001b[0;34m=\u001b[0m \u001b[0mcsv\u001b[0m\u001b[0;34m.\u001b[0m\u001b[0mreader\u001b[0m\u001b[0;34m(\u001b[0m\u001b[0mcsvfile\u001b[0m\u001b[0;34m,\u001b[0m \u001b[0mdelimiter\u001b[0m\u001b[0;34m=\u001b[0m\u001b[0;34m','\u001b[0m\u001b[0;34m,\u001b[0m \u001b[0mquotechar\u001b[0m\u001b[0;34m=\u001b[0m\u001b[0;34m'\"'\u001b[0m\u001b[0;34m)\u001b[0m\u001b[0;34m\u001b[0m\u001b[0m\n\u001b[1;32m     24\u001b[0m         \u001b[0mstringRead\u001b[0m \u001b[0;34m=\u001b[0m \u001b[0;34m[\u001b[0m\u001b[0;34m]\u001b[0m\u001b[0;34m\u001b[0m\u001b[0m\n",
      "\u001b[0;31mIOError\u001b[0m: [Errno 2] No such file or directory: 'SampleClimate.csv'"
     ]
    }
   ],
   "source": [
    "#Prototype code for Middle School coding/climate curriculum\n",
    "#this code is a model final product for students to create\n",
    "#PrototypeVizCode.py provides a teacher prototype without black boxing\n",
    "#Written by Grace Newman, \n",
    "\n",
    "from PIL import Image\n",
    "import csv\n",
    "\n",
    "#Main function calling each of the functions in turn\n",
    "#reads in a single file and then animates several in a for loop\n",
    "#Students will modify file name\n",
    "def main():\n",
    "\tstringReadin = readInCSVToString(\"SampleClimate.csv\")\n",
    "\tfloatData = stringDataToFloat(stringReadin)\n",
    "\tmakeAndFillImg(floatData)\n",
    "\n",
    "\n",
    "#Function to read in a csv to a formatted string\n",
    "#also includes error checking for problems with uneven length\n",
    "#Students will not touch this function\n",
    "def readInCSVToString(filepath):\n",
    "\tcsvfile = open(filepath, 'r') \n",
    "\treader = csv.reader(csvfile, delimiter=',', quotechar='\"')\n",
    "\tstringRead = []\n",
    "\tfor row in reader:\n",
    "\t\tstringRead.append(row)\n",
    "\tcsvfile.close()\n",
    "\treturn stringRead\n",
    "\n",
    "#Function to convert the read-in string data to float data\n",
    "#returns the read-in data and max/min values for visualization scaling\n",
    "#students will not touch this function\n",
    "def stringDataToFloat(stringRead):\n",
    "\tfinalRead = []\n",
    "\tfor stringRow in stringRead:\n",
    "\t\tnumRow = []\n",
    "\t\tfor stringElem in stringRow:\n",
    "\t\t\tval = float(stringElem)\n",
    "\t\t\tnumRow.append(val)\n",
    "\t\tfinalRead.append(numRow)\n",
    "\treturn finalRead\n",
    "\n",
    "#Binning color assignment using if/else blocks\n",
    "#borders can easily be changed, more added by expanding\n",
    "#input: value to convert\n",
    "#output: rgb triple\n",
    "#Students will spend most of their play time on this.\n",
    "def valueToRGBBins(value):\n",
    "    if value <= 100:\n",
    "        return (0, 0, 245)\n",
    "    elif value <= 300:\n",
    "        return (60, 180, 245)\n",
    "    elif value <= 500:\n",
    "        return (140, 219, 245)\n",
    "    elif value <= 600:\n",
    "        return (180, 240, 245)\n",
    "    elif value < 999:\n",
    "        return (245, 245, 245)\n",
    "    else:\n",
    "        return (0, 0, 0)\n",
    "\n",
    "#function to create an image and fill it with rgb values from data matrix\n",
    "def makeAndFillImg(data): \n",
    "\tnumRows = len(data)\n",
    "\tnumCols = len(data[0])\n",
    "\timg = Image.new('RGB', (numRows, numCols), \"blue\")\n",
    "\tpixels = img.load()\n",
    "\n",
    "\tfor i in range(img.size[0]):\n",
    "\t\tfor j in range(img.size[1]):\n",
    "\t\t\tpixels[i,j] = valueToRGBBins(data[i][j])\n",
    "\n",
    "\timg.rotate(90).show()\n",
    "\t\n",
    "#call to main so that the whole thing runs\n",
    "main()\n"
   ]
  },
  {
   "cell_type": "code",
   "execution_count": null,
   "metadata": {
    "collapsed": true
   },
   "outputs": [],
   "source": []
  }
 ],
 "metadata": {
  "kernelspec": {
   "display_name": "Python 2",
   "language": "python",
   "name": "python2"
  },
  "language_info": {
   "codemirror_mode": {
    "name": "ipython",
    "version": 2
   },
   "file_extension": ".py",
   "mimetype": "text/x-python",
   "name": "python",
   "nbconvert_exporter": "python",
   "pygments_lexer": "ipython2",
   "version": "2.7.11"
  }
 },
 "nbformat": 4,
 "nbformat_minor": 0
}
