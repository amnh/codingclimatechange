{
 "cells": [
  {
   "cell_type": "code",
   "execution_count": null,
   "metadata": {
    "collapsed": false
   },
   "outputs": [],
   "source": [
    "#Numbers: Intergers and Floats\n",
    "\n",
    "num1 = 3\n",
    "num2 = 2.5\n",
    "num3 = 15\n",
    "\n",
    "print(num1 + num2)     #Adds numbers together\n",
    "print(num1 - num2)     #Subtract\n",
    "print(num3/num1)       #Divide\n",
    "print(num2*num3)       #Multiply"
   ]
  },
  {
   "cell_type": "code",
   "execution_count": null,
   "metadata": {
    "collapsed": false
   },
   "outputs": [],
   "source": [
    "#Strings\n",
    "\n",
    "w_vs_c_str = \"You dress for the weather. You build your house for the climate.\"\n",
    "\n",
    "print(w_vs_c_str)        #prints the string\n",
    "print(len(w_vs_c_str))   #number of characters in the string\n",
    "print(w_vs_c_str[0])     #prints the character at a specific spot in the string\n",
    "print(w_vs_c_str[4:9])\n",
    "print(w_vs_c_str + \" The climate is changing.\")      #Adds two strings together"
   ]
  },
  {
   "cell_type": "code",
   "execution_count": null,
   "metadata": {
    "collapsed": false
   },
   "outputs": [],
   "source": [
    "#Lists\n",
    "\n",
    "num_lst = [3, 7, 12, 18, 25, 33, 42]\n",
    "country_lst = [\"Kenya\", \"Morocco\", \"Indonesia\", \"Germany\"]\n",
    "\n",
    "print(num_lst)        #prints the list\n",
    "print(country_lst)\n",
    "print(len(num_lst))   #how many objects are in the list\n",
    "print(country_lst[2])     #prints the object at a specific spot in the list\n",
    "\n",
    "country_lst.append(\"Thailand\")       #adds an element to the list\n",
    "print(country_lst)"
   ]
  },
  {
   "cell_type": "code",
   "execution_count": null,
   "metadata": {
    "collapsed": true
   },
   "outputs": [],
   "source": []
  }
 ],
 "metadata": {
  "kernelspec": {
   "display_name": "Python 2",
   "language": "python",
   "name": "python2"
  },
  "language_info": {
   "codemirror_mode": {
    "name": "ipython",
    "version": 2
   },
   "file_extension": ".py",
   "mimetype": "text/x-python",
   "name": "python",
   "nbconvert_exporter": "python",
   "pygments_lexer": "ipython2",
   "version": "2.7.11"
  }
 },
 "nbformat": 4,
 "nbformat_minor": 0
}
