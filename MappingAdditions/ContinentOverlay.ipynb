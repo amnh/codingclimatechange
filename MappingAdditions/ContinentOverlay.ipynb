{
 "cells": [
  {
   "cell_type": "markdown",
   "metadata": {},
   "source": [
    "This code goes inside the main() function right before the MapClimate.show() line"
   ]
  },
  {
   "cell_type": "code",
   "execution_count": null,
   "metadata": {
    "collapsed": true
   },
   "outputs": [],
   "source": [
    "overlay = Image.open(\"ContinentOverlay.png\")\n",
    "fitOverlay = ImageOps.fit(overlay, MapClimate.size, Image.BILINEAR)\n",
    "MapClimate.paste(fitOverlay, (0, 0), fitOverlay)"
   ]
  }
 ],
 "metadata": {
  "kernelspec": {
   "display_name": "Python 2",
   "language": "python",
   "name": "python2"
  },
  "language_info": {
   "codemirror_mode": {
    "name": "ipython",
    "version": 2
   },
   "file_extension": ".py",
   "mimetype": "text/x-python",
   "name": "python",
   "nbconvert_exporter": "python",
   "pygments_lexer": "ipython2",
   "version": "2.7.11"
  }
 },
 "nbformat": 4,
 "nbformat_minor": 0
}
