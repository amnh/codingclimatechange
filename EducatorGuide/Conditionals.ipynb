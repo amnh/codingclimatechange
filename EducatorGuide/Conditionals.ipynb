{
 "cells": [
  {
   "cell_type": "code",
   "execution_count": 2,
   "metadata": {
    "collapsed": false
   },
   "outputs": [
    {
     "name": "stdout",
     "output_type": "stream",
     "text": [
      "Team Green!\n"
     ]
    }
   ],
   "source": [
    "def colorTeam(birthyear):\n",
    "    if birthyear == 2003:\n",
    "        return \"Team Red!\"\n",
    "    elif birthyear == 2004:\n",
    "        return \"Team Green!\"\n",
    "    else:\n",
    "        return \"Team Blue!\"\n",
    "\n",
    "print colorTeam(2004)"
   ]
  },
  {
   "cell_type": "code",
   "execution_count": null,
   "metadata": {
    "collapsed": true
   },
   "outputs": [],
   "source": [
    "n = 20\n",
    "\n",
    "if n == 30:                  #Tests for equality\n",
    "    print \"Equal to 30\"\n",
    "else:\n",
    "    print \"Not equal to 30\"\n",
    "    \n",
    "if n != 15:      #Tests for inequality\n",
    "\n",
    "if n > 10:       #Tests for greater than\n",
    "    \n",
    "if n >= 40:      #Tests for greater than or equal to\n",
    "\n",
    "if n < 100:      #Tests for less than\n",
    "    \n",
    "if n <= 65:      #Tests for less than or equal to"
   ]
  }
 ],
 "metadata": {
  "kernelspec": {
   "display_name": "Python 2",
   "language": "python",
   "name": "python2"
  },
  "language_info": {
   "codemirror_mode": {
    "name": "ipython",
    "version": 2
   },
   "file_extension": ".py",
   "mimetype": "text/x-python",
   "name": "python",
   "nbconvert_exporter": "python",
   "pygments_lexer": "ipython2",
   "version": "2.7.11"
  }
 },
 "nbformat": 4,
 "nbformat_minor": 0
}
