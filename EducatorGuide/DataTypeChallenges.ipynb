{
 "cells": [
  {
   "cell_type": "code",
   "execution_count": null,
   "metadata": {
    "collapsed": false
   },
   "outputs": [],
   "source": [
    "num1 = 3\n",
    "num2 = 2.5\n",
    "num3 = 15\n",
    "num4 = -4.8\n",
    "\n",
    "print num1**num3          # To the power\n",
    "print num3%num2           # Finds the remainder\n",
    "print abs(num4)           # Takes the absolute value of a number"
   ]
  },
  {
   "cell_type": "code",
   "execution_count": null,
   "metadata": {
    "collapsed": false
   },
   "outputs": [],
   "source": [
    "str1 = \"You dress for the weather.\"\n",
    "str2 = \"You build your house for the climate.\"\n",
    "\n",
    "print \"you\" in str2        # Returns true if the character or phrase is in the string\n",
    "print str1.swapcase()      # Flips the cases of all the letters\n",
    "print str1.lower()         # Makes all the letters lower case\n",
    "lst3 = str2.split()        # Splits the phrase into a list of words"
   ]
  },
  {
   "cell_type": "code",
   "execution_count": null,
   "metadata": {
    "collapsed": false
   },
   "outputs": [],
   "source": [
    "lst1 = [3,7,12,18,25,33,42]\n",
    "lst2 = [\"Kenya\", \"Moracco\", \"Indonesia\", \"Germany\"]\n",
    "\n",
    "lst2.append(\"France\")       # Adds an object to the end of the list\n",
    "print lst2.count(\"Kenya\")   # How many times does an object appear in a list"
   ]
  },
  {
   "cell_type": "code",
   "execution_count": null,
   "metadata": {
    "collapsed": false
   },
   "outputs": [],
   "source": [
    "#Write code that sums all the numbers in a list\n",
    "\n",
    "lst = [4,5,66,12,7,123.000,12.3,90]\n",
    "\n",
    "print sum(lst)"
   ]
  },
  {
   "cell_type": "code",
   "execution_count": null,
   "metadata": {
    "collapsed": false
   },
   "outputs": [],
   "source": [
    "phrase = \"The brown fox jumped over the black cat the cat was scared\"\n",
    "words = phrase.split()\n",
    "print words\n",
    "print words.count(\"the\")\n",
    "\n",
    "#this doesn't include the first \"The\" since it's capitalized!\n",
    "# You can use the phrase \"lower\" to make everything lowercase\n",
    "\n",
    "lowerPhrase = phrase.lower()\n",
    "lowerWords = lowerPhrase.split()\n",
    "print lowerWords.count(\"the\")\n"
   ]
  },
  {
   "cell_type": "code",
   "execution_count": null,
   "metadata": {
    "collapsed": false
   },
   "outputs": [],
   "source": [
    "myString = \"Do Re Mi Fa So La Ti\"\n",
    "\n",
    "splitString = myString.split()\n",
    "\n",
    "#find the fourth word of the string - index is 3 since starts at 0\n",
    "splitString[3]"
   ]
  }
 ],
 "metadata": {
  "kernelspec": {
   "display_name": "Python 2",
   "language": "python",
   "name": "python2"
  },
  "language_info": {
   "codemirror_mode": {
    "name": "ipython",
    "version": 2
   },
   "file_extension": ".py",
   "mimetype": "text/x-python",
   "name": "python",
   "nbconvert_exporter": "python",
   "pygments_lexer": "ipython2",
   "version": "2.7.11"
  }
 },
 "nbformat": 4,
 "nbformat_minor": 0
}
