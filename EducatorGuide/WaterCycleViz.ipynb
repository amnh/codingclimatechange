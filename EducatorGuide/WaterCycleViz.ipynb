{
 "cells": [
  {
   "cell_type": "code",
<<<<<<< HEAD
   "execution_count": 1,
=======
   "execution_count": 17,
>>>>>>> dffefcb1eb2bcd3c3add7c5290aff7ebd93c10a6
   "metadata": {
    "collapsed": false
   },
   "outputs": [
    {
     "ename": "TypeError",
     "evalue": "Required argument 'object' (pos 1) not found",
     "output_type": "error",
     "traceback": [
      "\u001b[0;31m---------------------------------------------------------------------------\u001b[0m",
<<<<<<< HEAD
      "\u001b[0;31mValueError\u001b[0m                                Traceback (most recent call last)",
      "\u001b[0;32m<ipython-input-1-c33a1ed268b4>\u001b[0m in \u001b[0;36m<module>\u001b[0;34m()\u001b[0m\n\u001b[1;32m     11\u001b[0m \u001b[0;34m\u001b[0m\u001b[0m\n\u001b[1;32m     12\u001b[0m \u001b[0;31m#make a horizontal bar graph\u001b[0m\u001b[0;34m\u001b[0m\u001b[0;34m\u001b[0m\u001b[0m\n\u001b[0;32m---> 13\u001b[0;31m \u001b[0mplt\u001b[0m\u001b[0;34m.\u001b[0m\u001b[0mbarh\u001b[0m\u001b[0;34m(\u001b[0m\u001b[0mxPos\u001b[0m\u001b[0;34m,\u001b[0m \u001b[0mnumbers\u001b[0m\u001b[0;34m,\u001b[0m \u001b[0mcolor\u001b[0m\u001b[0;34m=\u001b[0m\u001b[0mmyColorsRGB\u001b[0m\u001b[0;34m)\u001b[0m\u001b[0;34m\u001b[0m\u001b[0m\n\u001b[0m\u001b[1;32m     14\u001b[0m \u001b[0mplt\u001b[0m\u001b[0;34m.\u001b[0m\u001b[0myticks\u001b[0m\u001b[0;34m(\u001b[0m\u001b[0mxPos\u001b[0m\u001b[0;34m,\u001b[0m \u001b[0mcycle\u001b[0m\u001b[0;34m)\u001b[0m\u001b[0;34m\u001b[0m\u001b[0m\n",
      "\u001b[0;32m//anaconda/lib/python2.7/site-packages/matplotlib/pyplot.pyc\u001b[0m in \u001b[0;36mbarh\u001b[0;34m(bottom, width, height, left, hold, **kwargs)\u001b[0m\n\u001b[1;32m   2589\u001b[0m         \u001b[0max\u001b[0m\u001b[0;34m.\u001b[0m\u001b[0mhold\u001b[0m\u001b[0;34m(\u001b[0m\u001b[0mhold\u001b[0m\u001b[0;34m)\u001b[0m\u001b[0;34m\u001b[0m\u001b[0m\n\u001b[1;32m   2590\u001b[0m     \u001b[0;32mtry\u001b[0m\u001b[0;34m:\u001b[0m\u001b[0;34m\u001b[0m\u001b[0m\n\u001b[0;32m-> 2591\u001b[0;31m         \u001b[0mret\u001b[0m \u001b[0;34m=\u001b[0m \u001b[0max\u001b[0m\u001b[0;34m.\u001b[0m\u001b[0mbarh\u001b[0m\u001b[0;34m(\u001b[0m\u001b[0mbottom\u001b[0m\u001b[0;34m,\u001b[0m \u001b[0mwidth\u001b[0m\u001b[0;34m,\u001b[0m \u001b[0mheight\u001b[0m\u001b[0;34m=\u001b[0m\u001b[0mheight\u001b[0m\u001b[0;34m,\u001b[0m \u001b[0mleft\u001b[0m\u001b[0;34m=\u001b[0m\u001b[0mleft\u001b[0m\u001b[0;34m,\u001b[0m \u001b[0;34m**\u001b[0m\u001b[0mkwargs\u001b[0m\u001b[0;34m)\u001b[0m\u001b[0;34m\u001b[0m\u001b[0m\n\u001b[0m\u001b[1;32m   2592\u001b[0m         \u001b[0mdraw_if_interactive\u001b[0m\u001b[0;34m(\u001b[0m\u001b[0;34m)\u001b[0m\u001b[0;34m\u001b[0m\u001b[0m\n\u001b[1;32m   2593\u001b[0m     \u001b[0;32mfinally\u001b[0m\u001b[0;34m:\u001b[0m\u001b[0;34m\u001b[0m\u001b[0m\n",
      "\u001b[0;32m//anaconda/lib/python2.7/site-packages/matplotlib/axes/_axes.pyc\u001b[0m in \u001b[0;36mbarh\u001b[0;34m(self, bottom, width, height, left, **kwargs)\u001b[0m\n\u001b[1;32m   2183\u001b[0m \u001b[0;34m\u001b[0m\u001b[0m\n\u001b[1;32m   2184\u001b[0m         patches = self.bar(left=left, height=height, width=width,\n\u001b[0;32m-> 2185\u001b[0;31m                            bottom=bottom, orientation='horizontal', **kwargs)\n\u001b[0m\u001b[1;32m   2186\u001b[0m         \u001b[0;32mreturn\u001b[0m \u001b[0mpatches\u001b[0m\u001b[0;34m\u001b[0m\u001b[0m\n\u001b[1;32m   2187\u001b[0m \u001b[0;34m\u001b[0m\u001b[0m\n",
      "\u001b[0;32m//anaconda/lib/python2.7/site-packages/matplotlib/axes/_axes.pyc\u001b[0m in \u001b[0;36mbar\u001b[0;34m(self, left, height, width, bottom, **kwargs)\u001b[0m\n\u001b[1;32m   1968\u001b[0m             \u001b[0mcolor\u001b[0m \u001b[0;34m=\u001b[0m \u001b[0;34m[\u001b[0m\u001b[0mNone\u001b[0m\u001b[0;34m]\u001b[0m \u001b[0;34m*\u001b[0m \u001b[0mnbars\u001b[0m\u001b[0;34m\u001b[0m\u001b[0m\n\u001b[1;32m   1969\u001b[0m         \u001b[0;32melse\u001b[0m\u001b[0;34m:\u001b[0m\u001b[0;34m\u001b[0m\u001b[0m\n\u001b[0;32m-> 1970\u001b[0;31m             \u001b[0mcolor\u001b[0m \u001b[0;34m=\u001b[0m \u001b[0mlist\u001b[0m\u001b[0;34m(\u001b[0m\u001b[0mmcolors\u001b[0m\u001b[0;34m.\u001b[0m\u001b[0mcolorConverter\u001b[0m\u001b[0;34m.\u001b[0m\u001b[0mto_rgba_array\u001b[0m\u001b[0;34m(\u001b[0m\u001b[0mcolor\u001b[0m\u001b[0;34m)\u001b[0m\u001b[0;34m)\u001b[0m\u001b[0;34m\u001b[0m\u001b[0m\n\u001b[0m\u001b[1;32m   1971\u001b[0m             \u001b[0;32mif\u001b[0m \u001b[0mlen\u001b[0m\u001b[0;34m(\u001b[0m\u001b[0mcolor\u001b[0m\u001b[0;34m)\u001b[0m \u001b[0;34m==\u001b[0m \u001b[0;36m0\u001b[0m\u001b[0;34m:\u001b[0m  \u001b[0;31m# until to_rgba_array is changed\u001b[0m\u001b[0;34m\u001b[0m\u001b[0m\n\u001b[1;32m   1972\u001b[0m                 \u001b[0mcolor\u001b[0m \u001b[0;34m=\u001b[0m \u001b[0;34m[\u001b[0m\u001b[0;34m[\u001b[0m\u001b[0;36m0\u001b[0m\u001b[0;34m,\u001b[0m \u001b[0;36m0\u001b[0m\u001b[0;34m,\u001b[0m \u001b[0;36m0\u001b[0m\u001b[0;34m,\u001b[0m \u001b[0;36m0\u001b[0m\u001b[0;34m]\u001b[0m\u001b[0;34m]\u001b[0m\u001b[0;34m\u001b[0m\u001b[0m\n",
      "\u001b[0;32m//anaconda/lib/python2.7/site-packages/matplotlib/colors.pyc\u001b[0m in \u001b[0;36mto_rgba_array\u001b[0;34m(self, c, alpha)\u001b[0m\n\u001b[1;32m    420\u001b[0m             \u001b[0mresult\u001b[0m \u001b[0;34m=\u001b[0m \u001b[0mnp\u001b[0m\u001b[0;34m.\u001b[0m\u001b[0mzeros\u001b[0m\u001b[0;34m(\u001b[0m\u001b[0;34m(\u001b[0m\u001b[0mnc\u001b[0m\u001b[0;34m,\u001b[0m \u001b[0;36m4\u001b[0m\u001b[0;34m)\u001b[0m\u001b[0;34m,\u001b[0m \u001b[0mdtype\u001b[0m\u001b[0;34m=\u001b[0m\u001b[0mnp\u001b[0m\u001b[0;34m.\u001b[0m\u001b[0mfloat\u001b[0m\u001b[0;34m)\u001b[0m\u001b[0;34m\u001b[0m\u001b[0m\n\u001b[1;32m    421\u001b[0m             \u001b[0;32mfor\u001b[0m \u001b[0mi\u001b[0m\u001b[0;34m,\u001b[0m \u001b[0mcc\u001b[0m \u001b[0;32min\u001b[0m \u001b[0menumerate\u001b[0m\u001b[0;34m(\u001b[0m\u001b[0mc\u001b[0m\u001b[0;34m)\u001b[0m\u001b[0;34m:\u001b[0m\u001b[0;34m\u001b[0m\u001b[0m\n\u001b[0;32m--> 422\u001b[0;31m                 \u001b[0mresult\u001b[0m\u001b[0;34m[\u001b[0m\u001b[0mi\u001b[0m\u001b[0;34m]\u001b[0m \u001b[0;34m=\u001b[0m \u001b[0mself\u001b[0m\u001b[0;34m.\u001b[0m\u001b[0mto_rgba\u001b[0m\u001b[0;34m(\u001b[0m\u001b[0mcc\u001b[0m\u001b[0;34m,\u001b[0m \u001b[0malpha\u001b[0m\u001b[0;34m)\u001b[0m\u001b[0;34m\u001b[0m\u001b[0m\n\u001b[0m\u001b[1;32m    423\u001b[0m             \u001b[0;32mreturn\u001b[0m \u001b[0mresult\u001b[0m\u001b[0;34m\u001b[0m\u001b[0m\n\u001b[1;32m    424\u001b[0m \u001b[0;34m\u001b[0m\u001b[0m\n",
      "\u001b[0;32m//anaconda/lib/python2.7/site-packages/matplotlib/colors.pyc\u001b[0m in \u001b[0;36mto_rgba\u001b[0;34m(self, arg, alpha)\u001b[0m\n\u001b[1;32m    374\u001b[0m         \u001b[0;32mexcept\u001b[0m \u001b[0;34m(\u001b[0m\u001b[0mTypeError\u001b[0m\u001b[0;34m,\u001b[0m \u001b[0mValueError\u001b[0m\u001b[0;34m)\u001b[0m \u001b[0;32mas\u001b[0m \u001b[0mexc\u001b[0m\u001b[0;34m:\u001b[0m\u001b[0;34m\u001b[0m\u001b[0m\n\u001b[1;32m    375\u001b[0m             raise ValueError(\n\u001b[0;32m--> 376\u001b[0;31m                 'to_rgba: Invalid rgba arg \"%s\"\\n%s' % (str(arg), exc))\n\u001b[0m\u001b[1;32m    377\u001b[0m \u001b[0;34m\u001b[0m\u001b[0m\n\u001b[1;32m    378\u001b[0m     \u001b[0;32mdef\u001b[0m \u001b[0mto_rgba_array\u001b[0m\u001b[0;34m(\u001b[0m\u001b[0mself\u001b[0m\u001b[0;34m,\u001b[0m \u001b[0mc\u001b[0m\u001b[0;34m,\u001b[0m \u001b[0malpha\u001b[0m\u001b[0;34m=\u001b[0m\u001b[0mNone\u001b[0m\u001b[0;34m)\u001b[0m\u001b[0;34m:\u001b[0m\u001b[0;34m\u001b[0m\u001b[0m\n",
      "\u001b[0;31mValueError\u001b[0m: to_rgba: Invalid rgba arg \"(255, 0, 0)\"\nnumber in rbg sequence outside 0-1 range"
     ]
    },
    {
     "data": {
      "image/png": "iVBORw0KGgoAAAANSUhEUgAAAXcAAAEACAYAAABI5zaHAAAABHNCSVQICAgIfAhkiAAAAAlwSFlz\nAAALEgAACxIB0t1+/AAADXJJREFUeJzt3V+InfWdx/H3ZxMtCOvaEvAipthtg2sLii1N7XYXT1Ho\n1IsKXVhJ/9E/UFlI2btae1Hnpl28K0VwRaz0qrlohc0uQSnbHlpErYEadU0k2a6QxCLVtlKKFwl+\n92JOk+mYnD8zZ87Er+8XDMwzz2+e8/PHzDuPv5NHU1VIknr5q62egCRp/oy7JDVk3CWpIeMuSQ0Z\nd0lqyLhLUkMT457k+0leTvLsmDHfS3IsyeEkN8x3ipKkWU1z5/4QsHShk0luBd5XVbuBrwL3zWlu\nkqR1mhj3qvoF8PsxQz4F/GA09kngiiRXzmd6kqT1mMee+07gxKrjk8BVc7iuJGmd5vWGatYc+980\nkKQttH0O1zgF7Fp1fNXoa38hicGXpHWoqrU30BPN4879APAFgCQ3An+oqpfPN7Cq/Kji7rvv3vI5\nXCwfroVr4VqM/1iviXfuSX4I3ATsSHICuBu4ZBTr+6vqYJJbkxwH/gR8ad2zkSTNxcS4V9XeKcbs\nm890JEnz4BOqW2AwGGz1FC4arsU5rsU5rsXGZSN7OjO9UFKLei1J6iIJtUVvqEqSLjLGXZIaMu6S\n1JBxl6SGjLskNWTcJakh4y5JDRl3SWrIuEtSQ8Zdkhoy7pLUkHGXpIaMuyQ1ZNwlqSHjLkkNGXdJ\nasi4S1JDxl2SGjLuktSQcZekhoy7JDVk3CWpIeMuSQ0Zd0lqyLhLUkPGXZIaMu6S1JBxl6SGjLsk\nNWTcJakh4y5JDRl3SWrIuEtSQ8ZdkhqaGPckS0mOJjmW5M7znN+R5JEkTyd5LskXN2WmkqSppaou\nfDLZBrwA3AKcAp4C9lbVkVVjloF3VNVdSXaMxl9ZVWfWXKvGvZYk6c2SUFWZ9fsm3bnvAY5X1YtV\ndRrYD9y2ZsxvgMtHn18OvLo27JKkxdo+4fxO4MSq45PAR9aMeQD4aZKXgL8G/nl+05MkrcekuE+z\nj/JN4OmqGiR5L/CTJNdX1R/XDlxeXj77+WAwYDAYzDBVSepvOBwyHA43fJ1Je+43AstVtTQ6vgt4\no6ruWTXmIPDtqnpsdPzfwJ1VdWjNtdxzl6QZbdae+yFgd5Krk1wK3A4cWDPmKCtvuJLkSuAa4Nez\nTkSSND9jt2Wq6kySfcCjwDbgwao6kuSO0fn7ge8ADyU5zMofFl+vqt9t8rwlSWOM3ZaZ6wu5LSNJ\nM9usbRlJ0luQcZekhoy7JDVk3CWpIeMuSQ0Zd0lqyLhLUkPGXZIaMu6S1JBxl6SGjLskNWTcJakh\n4y5JDRl3SWrIuEtSQ8Zdkhoy7pLUkHGXpIaMuyQ1ZNwlqSHjLkkNGXdJasi4S1JDxl2SGjLuktSQ\ncZekhoy7JDVk3CWpIeMuSQ0Zd0lqyLhLUkPGXZIaMu6S1JBxl6SGjLskNTQx7kmWkhxNcizJnRcY\nM0jyqyTPJRnOfZaSpJmkqi58MtkGvADcApwCngL2VtWRVWOuAB4DPlFVJ5PsqKpXznOtGvdakqQ3\nS0JVZdbvm3Tnvgc4XlUvVtVpYD9w25oxnwF+XFUnAc4XdknSYk2K+07gxKrjk6OvrbYbeFeSnyU5\nlOTz85ygJGl22yecn2Yf5RLgg8DNwGXA40meqKpjG52cJGl9JsX9FLBr1fEuVu7eVzsBvFJVrwOv\nJ/k5cD3wprgvLy+f/XwwGDAYDGafsSQ1NhwOGQ6HG77OpDdUt7PyhurNwEvAL3nzG6p/B9wLfAJ4\nB/AkcHtVPb/mWr6hKkkzWu8bqmPv3KvqTJJ9wKPANuDBqjqS5I7R+fur6miSR4BngDeAB9aGXZK0\nWGPv3Of6Qt65S9LMNuuvQkqS3oKMuyQ1ZNwlqSHjLkkNGXdJasi4S1JDxl2SGjLuktSQcZekhoy7\nJDVk3CWpIeMuSQ0Zd0lqyLhLUkPGXZIaMu6S1JBxl6SGjLskNWTcJakh4y5JDRl3SWrIuEtSQ8Zd\nkhoy7pLUkHGXpIaMuyQ1ZNwlqSHjLkkNGXdJasi4S1JDxl2SGjLuktSQcZekhoy7JDVk3CWpIeMu\nSQ1NjHuSpSRHkxxLcueYcR9OcibJp+c7RUnSrMbGPck24F5gCXg/sDfJtRcYdw/wCJBNmKckaQaT\n7tz3AMer6sWqOg3sB247z7ivAT8Cfjvn+UmS1mFS3HcCJ1Ydnxx97awkO1kJ/n2jL9XcZidJWpdJ\ncZ8m1N8FvlFVxcqWjNsykrTFtk84fwrYtep4Fyt376t9CNifBGAH8Mkkp6vqwNqLLS8vn/18MBgw\nGAxmn7EkNTYcDhkOhxu+TlZuuC9wMtkOvADcDLwE/BLYW1VHLjD+IeA/q+rh85yrca8lSXqzJFTV\nzDsiY+/cq+pMkn3Ao8A24MGqOpLkjtH5+9c1W0nSphp75z7XF/LOXZJmtt47d59QlaSGjLskNWTc\nJakh4y5JDRl3SWrIuEtSQ8Zdkhoy7pLUkHGXpIaMuyQ1ZNwlqSHjLkkNGXdJasi4S1JDxl2SGjLu\nktSQcZekhoy7JDVk3CWpIeMuSQ0Zd0lqyLhLUkPGXZIaMu6S1JBxl6SGjLskNWTcJakh4y5JDRl3\nSWrIuEtSQ8Zdkhoy7pLUkHGXpIaMuyQ1ZNwlqSHjLkkNTRX3JEtJjiY5luTO85z/bJLDSZ5J8liS\n6+Y/VUnStFJV4wck24AXgFuAU8BTwN6qOrJqzEeB56vqtSRLwHJV3bjmOjXptSRJfykJVZVZv2+a\nO/c9wPGqerGqTgP7gdtWD6iqx6vqtdHhk8BVs05EkjQ/08R9J3Bi1fHJ0dcu5CvAwY1MSpK0Mdun\nGDP1XkqSjwNfBj52vvPLy8tnPx8MBgwGg2kvLUlvC8PhkOFwuOHrTLPnfiMre+hLo+O7gDeq6p41\n464DHgaWqur4ea7jnrskzWgz99wPAbuTXJ3kUuB24MCaF383K2H/3PnCLklarInbMlV1Jsk+4FFg\nG/BgVR1Jcsfo/P3At4B3AvclAThdVXs2b9qSpHEmbsvM7YXclpGkmW3mtowk6S3GuEtSQ8Zdkhoy\n7pLUkHGXpIaMuyQ1ZNwlqSHjLkkNGXdJasi4S1JDxl2SGjLuktSQcZekhoy7JDVk3CWpIeMuSQ0Z\nd0lqyLhLUkPGXZIaMu6S1JBxl6SGjLskNWTcJakh4y5JDRl3SWrIuEtSQ8Zdkhoy7pLUkHGXpIaM\nuyQ1ZNwlqSHjLkkNGXdJasi4S1JDxl2SGpoY9yRLSY4mOZbkzguM+d7o/OEkN8x/mpKkWYyNe5Jt\nwL3AEvB+YG+Sa9eMuRV4X1XtBr4K3LdJc21jOBxu9RQuGq7FOa7FOa7Fxk26c98DHK+qF6vqNLAf\nuG3NmE8BPwCoqieBK5JcOfeZNuIP7jmuxTmuxTmuxcZNivtO4MSq45Ojr00ac9XGpyZJWq9Jca8p\nr5N1fp8kaROk6sIdTnIjsFxVS6Pju4A3quqeVWP+HRhW1f7R8VHgpqp6ec21DL4krUNVrb2Bnmj7\nhPOHgN1JrgZeAm4H9q4ZcwDYB+wf/WHwh7VhX+/kJEnrMzbuVXUmyT7gUWAb8GBVHUlyx+j8/VV1\nMMmtSY4DfwK+tOmzliSNNXZbRpL01jT3J1R96OmcSWuR5LOjNXgmyWNJrtuKeS7CND8Xo3EfTnIm\nyacXOb9FmfL3Y5DkV0meSzJc8BQXZorfjx1JHkny9GgtvrgF01yIJN9P8nKSZ8eMma2bVTW3D1a2\nbo4DVwOXAE8D164ZcytwcPT5R4An5jmHi+VjyrX4KPA3o8+X3s5rsWrcT4H/Av5pq+e9RT8TVwD/\nA1w1Ot6x1fPewrVYBv7tz+sAvAps3+q5b9J6/CNwA/DsBc7P3M1537n70NM5E9eiqh6vqtdGh0/S\n9/mAaX4uAL4G/Aj47SInt0DTrMNngB9X1UmAqnplwXNclGnW4jfA5aPPLwderaozC5zjwlTVL4Df\njxkyczfnHXcfejpnmrVY7SvAwU2d0daZuBZJdrLyy/3n/3xFxzeDpvmZ2A28K8nPkhxK8vmFzW6x\nplmLB4APJHkJOAz864LmdjGauZuT/irkrHzo6Zyp/5mSfBz4MvCxzZvOlppmLb4LfKOqKkl4889I\nB9OswyXAB4GbgcuAx5M8UVXHNnVmizfNWnwTeLqqBkneC/wkyfVV9cdNntvFaqZuzjvup4Bdq453\nsfInzLgxV42+1s00a8HoTdQHgKWqGvevZW9l06zFh1h5VgJW9lc/meR0VR1YzBQXYpp1OAG8UlWv\nA68n+TlwPdAt7tOsxd8D3waoqv9N8n/ANaw8f/N2M3M3570tc/ahpySXsvLQ09pfzgPAF+DsE7Dn\nfeipgYlrkeTdwMPA56rq+BbMcVEmrkVV/W1Vvaeq3sPKvvu/NAs7TPf78R/APyTZluQyVt48e37B\n81yEadbiKHALwGh/+Rrg1wud5cVj5m7O9c69fOjprGnWAvgW8E7gvtEd6+mq2rNVc94sU65Fe1P+\nfhxN8gjwDPAG8EBVtYv7lD8T3wEeSnKYlRvRr1fV77Zs0psoyQ+Bm4AdSU4Ad7OyRbfubvoQkyQ1\n5P9mT5IaMu6S1JBxl6SGjLskNWTcJakh4y5JDRl3SWrIuEtSQ/8Pqcmx+Q339isAAAAASUVORK5C\nYII=\n",
      "text/plain": [
       "<matplotlib.figure.Figure at 0x1078aef90>"
      ]
     },
     "metadata": {},
     "output_type": "display_data"
=======
      "\u001b[0;31mTypeError\u001b[0m                                 Traceback (most recent call last)",
      "\u001b[0;32m<ipython-input-17-bf101422914c>\u001b[0m in \u001b[0;36m<module>\u001b[0;34m()\u001b[0m\n\u001b[1;32m      3\u001b[0m \u001b[0;32mimport\u001b[0m \u001b[0mnumpy\u001b[0m \u001b[0;32mas\u001b[0m \u001b[0mnp\u001b[0m\u001b[0;34m\u001b[0m\u001b[0m\n\u001b[1;32m      4\u001b[0m \u001b[0;34m\u001b[0m\u001b[0m\n\u001b[0;32m----> 5\u001b[0;31m \u001b[0mmyColors\u001b[0m \u001b[0;34m=\u001b[0m \u001b[0mnp\u001b[0m\u001b[0;34m.\u001b[0m\u001b[0marray\u001b[0m\u001b[0;34m(\u001b[0m\u001b[0;34m)\u001b[0m\u001b[0;34m\u001b[0m\u001b[0m\n\u001b[0m\u001b[1;32m      6\u001b[0m \u001b[0mnum\u001b[0m \u001b[0;34m=\u001b[0m \u001b[0;34m[\u001b[0m\u001b[0;34m]\u001b[0m\u001b[0;34m\u001b[0m\u001b[0m\n\u001b[1;32m      7\u001b[0m \u001b[0;31m#Plant\u001b[0m\u001b[0;34m\u001b[0m\u001b[0;34m\u001b[0m\u001b[0m\n",
      "\u001b[0;31mTypeError\u001b[0m: Required argument 'object' (pos 1) not found"
     ]
>>>>>>> dffefcb1eb2bcd3c3add7c5290aff7ebd93c10a6
    }
   ],
   "source": [
    "%matplotlib inline\n",
    "import matplotlib.pyplot as plt\n",
    "import numpy as np\n",
    "\n",
    "\n",
    "#Plant\n",
    "num1 = 0\n",
    "color2 = (255,0,0)\n",
    "color2x = np.array(color2)\n",
    "myColors.append(color2x/255.)\n",
    "\n",
    "#Animal\n",
    "num2 = 2\n",
    "color2 = (0,0,0)\n",
    "color2x = np.array(color2)\n",
    "myColors.append(color2x/255.)\n",
    "\n",
    "#Soil\n",
    "num3 = 3\n",
    "color3 = (0,255,0)\n",
    "color3x = np.array(color3)\n",
    "myColors.append(color3x/255.)\n",
    "\n",
    "#Ground Water\n",
    "num4 = 1\n",
    "color4 = (0,0,255)\n",
    "color4x = np.array(color4)\n",
    "myColors.append(color4x/255.)\n",
    "\n",
    "#Lake\n",
    "num5 = 1\n",
    "color5 = (0,51,51)\n",
    "color5x = np.array(color5)\n",
    "myColors.append(color5x/255.)\n",
    "\n",
    "#River\n",
    "num6 = 2\n",
    "color6 = (105,255,105)\n",
    "color6x = np.array(color6)\n",
    "myColors.append(color6x/255.)\n",
    "\n",
    "#Glacier\n",
    "num7 = 3\n",
    "color7 = (255,255,0)\n",
    "color7x = np.array(color7)\n",
    "myColors.append(color7x/255.)\n",
    "\n",
    "#Ocean\n",
    "num8 = 1\n",
    "color8 = (0,255,180)\n",
    "color8x = np.array(color8)\n",
    "myColors.append(color8x/255.)\n",
    "\n",
    "#Clouds\n",
    "num9 = 2\n",
    "color9 = (255,51,108)\n",
    "color9x = np.array(color9)\n",
    "myColors.append(color9x/255.)\n",
    "\n",
    "#define our list and its labels. You need to fill in the numbers list.\n",
    "numbers = [num1, num2, num3, num4, num5, num6, num7, num8, num9]\n",
    "cycle = [\"Plant\", \"Animal\", \"Soil\", \"Ground Water\", \"Lake\", \"River\", \"Glacier\", \"Ocean\", \"Clouds\"]\n",
    "xPos = np.arange(len(cycle))\n",
    "\n",
    "print myColors\n",
    "#make a horizontal bar graph\n",
    "plt.barh(xPos, numbers, color=myColors)\n",
    "plt.yticks(xPos, cycle)"
   ]
  },
  {
   "cell_type": "code",
   "execution_count": null,
   "metadata": {
    "collapsed": false
   },
   "outputs": [],
   "source": [
    "#now make a pie chart\n",
    "plt.pie(numbers, labels = cycle)"
   ]
  },
  {
   "cell_type": "code",
   "execution_count": 25,
   "metadata": {
    "collapsed": false
   },
   "outputs": [
    {
     "name": "stdout",
     "output_type": "stream",
     "text": [
      "[array([ 1.,  0.,  0.]), array([ 0.,  0.,  0.]), array([ 0.,  1.,  0.]), array([ 0.,  0.,  1.]), array([ 0. ,  0.2,  0.2]), array([ 0.41176471,  1.        ,  0.41176471]), array([ 1.,  1.,  0.]), array([ 0.        ,  1.        ,  0.70588235])]\n"
     ]
    },
    {
     "data": {
      "text/plain": [
       "([<matplotlib.axis.YTick at 0x106f97250>,\n",
       "  <matplotlib.axis.YTick at 0x1065fa090>,\n",
       "  <matplotlib.axis.YTick at 0x106fa7e50>,\n",
       "  <matplotlib.axis.YTick at 0x106857a50>,\n",
       "  <matplotlib.axis.YTick at 0x106857110>,\n",
       "  <matplotlib.axis.YTick at 0x106824d50>,\n",
       "  <matplotlib.axis.YTick at 0x106824150>,\n",
       "  <matplotlib.axis.YTick at 0x1067f0190>,\n",
       "  <matplotlib.axis.YTick at 0x1067f0810>],\n",
       " <a list of 9 Text yticklabel objects>)"
      ]
     },
     "execution_count": 25,
     "metadata": {},
     "output_type": "execute_result"
    },
    {
     "data": {
      "image/png": "iVBORw0KGgoAAAANSUhEUgAAAa0AAAD7CAYAAADZ9stpAAAABHNCSVQICAgIfAhkiAAAAAlwSFlz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\nZvx/LL0ivg6Zbf8AAAAASUVORK5CYII=\n",
      "text/plain": [
       "<matplotlib.figure.Figure at 0x106edbc90>"
      ]
     },
     "metadata": {},
     "output_type": "display_data"
    }
   ],
   "source": [
    "%matplotlib inline\n",
    "import matplotlib.pyplot as plt\n",
    "import numpy as np\n",
    "\n",
    "#Plant\n",
    "num1 = 0\n",
    "color1 = (255,0,0)\n",
    "\n",
    "#Animal\n",
    "num2 = 2\n",
    "color2 = (0,0,0)\n",
    "\n",
    "#Soil\n",
    "num3 = 3\n",
    "color3 = (0,255,0)\n",
    "\n",
    "#Ground Water\n",
    "num4 = 1\n",
    "color4 = (0,0,255)\n",
    "\n",
    "#Lake\n",
    "num5 = 1\n",
    "color5 = (0,51,51)\n",
    "\n",
    "#River\n",
    "num6 = 2\n",
    "color6 = (105,255,105)\n",
    "\n",
    "#Glacier\n",
    "num7 = 3\n",
    "color7 = (255,255,0)\n",
    "\n",
    "#Ocean\n",
    "num8 = 1\n",
    "color8 = (0,255,180)\n",
    "\n",
    "#Clouds\n",
    "num9 = 2\n",
    "color9 = (255,51,108)\n",
    "\n",
    "#define our list and its labels. You need to fill in the numbers list.\n",
    "numbers = [num1, num2, num3, num4, num5, num6, num7, num8, num9]\n",
    "cycle = [\"Plant\", \"Animal\", \"Soil\", \"Ground Water\", \"Lake\", \"River\", \"Glacier\", \"Ocean\", \"Clouds\"]\n",
    "xPos = np.arange(len(cycle))\n",
    "\n",
    "myColors = []\n",
    "for i in range(1,9):\n",
    "    vars()[\"c\"+str(i)] = np.array(vars()[\"color\"+ str(i)])\n",
    "    myColors.append((vars()[\"c\"+str(i)])/255.)\n",
    "\n",
    "#make a horizontal bar graph\n",
    "plt.barh(xPos, numbers, color=myColors)\n",
    "plt.yticks(xPos, cycle)"
   ]
  },
  {
   "cell_type": "code",
   "execution_count": null,
   "metadata": {
    "collapsed": true
   },
   "outputs": [],
   "source": []
  }
 ],
 "metadata": {
  "kernelspec": {
   "display_name": "Python 2",
   "language": "python",
   "name": "python2"
  },
  "language_info": {
   "codemirror_mode": {
    "name": "ipython",
    "version": 2
   },
   "file_extension": ".py",
   "mimetype": "text/x-python",
   "name": "python",
   "nbconvert_exporter": "python",
   "pygments_lexer": "ipython2",
   "version": "2.7.11"
  }
 },
 "nbformat": 4,
 "nbformat_minor": 0
}
