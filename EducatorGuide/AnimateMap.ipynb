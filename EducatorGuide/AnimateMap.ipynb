{
 "cells": [
  {
   "cell_type": "markdown",
   "metadata": {},
   "source": [
    "This code creates an animation that cycles through a list of images. "
   ]
  },
  {
   "cell_type": "code",
   "execution_count": 1,
   "metadata": {
    "collapsed": false
   },
   "outputs": [],
   "source": [
    "from PIL import Image\n",
    "from PIL import ImageOps\n",
    "import csv\n",
    "import math\n",
    "import matplotlib.animation as animate\n",
    "import numpy as np\n",
    "import matplotlib.pyplot as plt\n",
    "\n",
    "def animateIt(filenames):\n",
    "    readIms = []\n",
    "    fig = plt.figure()\n",
    "    for name in filenames:\n",
    "        f = open(\"/Users/katemiller/Desktop/codingclimatechange/EducatorGuide/SavedImages/\"+name+\".jpg\")\n",
    "        img_read = plt.imread(f)\n",
    "        readIms.append([plt.imshow(img_read)])\n",
    "    ani = animate.ArtistAnimation(fig, readIms, interval=1000, repeat_delay=3000, blit=False)\n",
    "    plt.show()\n",
    "\n",
    "animateIt([\"LandTempDec15Test\",\"LandTempDec14Test\",\"LandTempDec13Test\",\"LandTempDec12Test\"])"
   ]
  },
  {
   "cell_type": "code",
   "execution_count": null,
   "metadata": {
    "collapsed": true
   },
   "outputs": [],
   "source": []
  }
 ],
 "metadata": {
  "kernelspec": {
   "display_name": "Python 2",
   "language": "python",
   "name": "python2"
  },
  "language_info": {
   "codemirror_mode": {
    "name": "ipython",
    "version": 2
   },
   "file_extension": ".py",
   "mimetype": "text/x-python",
   "name": "python",
   "nbconvert_exporter": "python",
   "pygments_lexer": "ipython2",
   "version": "2.7.11"
  }
 },
 "nbformat": 4,
 "nbformat_minor": 0
}
