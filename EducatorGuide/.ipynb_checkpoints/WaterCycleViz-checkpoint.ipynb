{
 "cells": [
  {
   "cell_type": "code",
   "execution_count": 17,
   "metadata": {
    "collapsed": false
   },
   "outputs": [
    {
     "ename": "TypeError",
     "evalue": "Required argument 'object' (pos 1) not found",
     "output_type": "error",
     "traceback": [
      "\u001b[0;31m---------------------------------------------------------------------------\u001b[0m",
      "\u001b[0;31mTypeError\u001b[0m                                 Traceback (most recent call last)",
      "\u001b[0;32m<ipython-input-17-bf101422914c>\u001b[0m in \u001b[0;36m<module>\u001b[0;34m()\u001b[0m\n\u001b[1;32m      3\u001b[0m \u001b[0;32mimport\u001b[0m \u001b[0mnumpy\u001b[0m \u001b[0;32mas\u001b[0m \u001b[0mnp\u001b[0m\u001b[0;34m\u001b[0m\u001b[0m\n\u001b[1;32m      4\u001b[0m \u001b[0;34m\u001b[0m\u001b[0m\n\u001b[0;32m----> 5\u001b[0;31m \u001b[0mmyColors\u001b[0m \u001b[0;34m=\u001b[0m \u001b[0mnp\u001b[0m\u001b[0;34m.\u001b[0m\u001b[0marray\u001b[0m\u001b[0;34m(\u001b[0m\u001b[0;34m)\u001b[0m\u001b[0;34m\u001b[0m\u001b[0m\n\u001b[0m\u001b[1;32m      6\u001b[0m \u001b[0mnum\u001b[0m \u001b[0;34m=\u001b[0m \u001b[0;34m[\u001b[0m\u001b[0;34m]\u001b[0m\u001b[0;34m\u001b[0m\u001b[0m\n\u001b[1;32m      7\u001b[0m \u001b[0;31m#Plant\u001b[0m\u001b[0;34m\u001b[0m\u001b[0;34m\u001b[0m\u001b[0m\n",
      "\u001b[0;31mTypeError\u001b[0m: Required argument 'object' (pos 1) not found"
     ]
    }
   ],
   "source": [
    "%matplotlib inline\n",
    "import matplotlib.pyplot as plt\n",
    "import numpy as np\n",
    "\n",
    "\n",
    "#Plant\n",
    "num1 = 0\n",
    "color2 = (255,0,0)\n",
    "color2x = np.array(color2)\n",
    "myColors.append(color2x/255.)\n",
    "\n",
    "#Animal\n",
    "num2 = 2\n",
    "color2 = (0,0,0)\n",
    "color2x = np.array(color2)\n",
    "myColors.append(color2x/255.)\n",
    "\n",
    "#Soil\n",
    "num3 = 3\n",
    "color3 = (0,255,0)\n",
    "color3x = np.array(color3)\n",
    "myColors.append(color3x/255.)\n",
    "\n",
    "#Ground Water\n",
    "num4 = 1\n",
    "color4 = (0,0,255)\n",
    "color4x = np.array(color4)\n",
    "myColors.append(color4x/255.)\n",
    "\n",
    "#Lake\n",
    "num5 = 1\n",
    "color5 = (0,51,51)\n",
    "color5x = np.array(color5)\n",
    "myColors.append(color5x/255.)\n",
    "\n",
    "#River\n",
    "num6 = 2\n",
    "color6 = (105,255,105)\n",
    "color6x = np.array(color6)\n",
    "myColors.append(color6x/255.)\n",
    "\n",
    "#Glacier\n",
    "num7 = 3\n",
    "color7 = (255,255,0)\n",
    "color7x = np.array(color7)\n",
    "myColors.append(color7x/255.)\n",
    "\n",
    "#Ocean\n",
    "num8 = 1\n",
    "color8 = (0,255,180)\n",
    "color8x = np.array(color8)\n",
    "myColors.append(color8x/255.)\n",
    "\n",
    "#Clouds\n",
    "num9 = 2\n",
    "color9 = (255,51,108)\n",
    "color9x = np.array(color9)\n",
    "myColors.append(color9x/255.)\n",
    "\n",
    "#define our list and its labels. You need to fill in the numbers list.\n",
    "numbers = [num1, num2, num3, num4, num5, num6, num7, num8, num9]\n",
    "cycle = [\"Plant\", \"Animal\", \"Soil\", \"Ground Water\", \"Lake\", \"River\", \"Glacier\", \"Ocean\", \"Clouds\"]\n",
    "xPos = np.arange(len(cycle))\n",
    "\n",
    "print myColors\n",
    "#make a horizontal bar graph\n",
    "plt.barh(xPos, numbers, color=myColors)\n",
    "plt.yticks(xPos, cycle)"
   ]
  },
  {
   "cell_type": "code",
   "execution_count": null,
   "metadata": {
    "collapsed": false
   },
   "outputs": [],
   "source": [
    "#now make a pie chart\n",
    "plt.pie(numbers, labels = cycle)"
   ]
  },
  {
   "cell_type": "code",
   "execution_count": 25,
   "metadata": {
    "collapsed": false
   },
   "outputs": [
    {
     "name": "stdout",
     "output_type": "stream",
     "text": [
      "[array([ 1.,  0.,  0.]), array([ 0.,  0.,  0.]), array([ 0.,  1.,  0.]), array([ 0.,  0.,  1.]), array([ 0. ,  0.2,  0.2]), array([ 0.41176471,  1.        ,  0.41176471]), array([ 1.,  1.,  0.]), array([ 0.        ,  1.        ,  0.70588235])]\n"
     ]
    },
    {
     "data": {
      "text/plain": [
       "([<matplotlib.axis.YTick at 0x106f97250>,\n",
       "  <matplotlib.axis.YTick at 0x1065fa090>,\n",
       "  <matplotlib.axis.YTick at 0x106fa7e50>,\n",
       "  <matplotlib.axis.YTick at 0x106857a50>,\n",
       "  <matplotlib.axis.YTick at 0x106857110>,\n",
       "  <matplotlib.axis.YTick at 0x106824d50>,\n",
       "  <matplotlib.axis.YTick at 0x106824150>,\n",
       "  <matplotlib.axis.YTick at 0x1067f0190>,\n",
       "  <matplotlib.axis.YTick at 0x1067f0810>],\n",
       " <a list of 9 Text yticklabel objects>)"
      ]
     },
     "execution_count": 25,
     "metadata": {},
     "output_type": "execute_result"
    },
    {
     "data": {
      "image/png": "[encoded data removed]",
      "text/plain": [
       "<matplotlib.figure.Figure at 0x106edbc90>"
      ]
     },
     "metadata": {},
     "output_type": "display_data"
    }
   ],
   "source": [
    "%matplotlib inline\n",
    "import matplotlib.pyplot as plt\n",
    "import numpy as np\n",
    "\n",
    "#Plant\n",
    "num1 = 0\n",
    "color1 = (255,0,0)\n",
    "\n",
    "#Animal\n",
    "num2 = 2\n",
    "color2 = (0,0,0)\n",
    "\n",
    "#Soil\n",
    "num3 = 3\n",
    "color3 = (0,255,0)\n",
    "\n",
    "#Ground Water\n",
    "num4 = 1\n",
    "color4 = (0,0,255)\n",
    "\n",
    "#Lake\n",
    "num5 = 1\n",
    "color5 = (0,51,51)\n",
    "\n",
    "#River\n",
    "num6 = 2\n",
    "color6 = (105,255,105)\n",
    "\n",
    "#Glacier\n",
    "num7 = 3\n",
    "color7 = (255,255,0)\n",
    "\n",
    "#Ocean\n",
    "num8 = 1\n",
    "color8 = (0,255,180)\n",
    "\n",
    "#Clouds\n",
    "num9 = 2\n",
    "color9 = (255,51,108)\n",
    "\n",
    "#define our list and its labels. You need to fill in the numbers list.\n",
    "numbers = [num1, num2, num3, num4, num5, num6, num7, num8, num9]\n",
    "cycle = [\"Plant\", \"Animal\", \"Soil\", \"Ground Water\", \"Lake\", \"River\", \"Glacier\", \"Ocean\", \"Clouds\"]\n",
    "xPos = np.arange(len(cycle))\n",
    "\n",
    "myColors = []\n",
    "for i in range(1,9):\n",
    "    vars()[\"c\"+str(i)] = np.array(vars()[\"color\"+ str(i)])\n",
    "    myColors.append((vars()[\"c\"+str(i)])/255.)\n",
    "\n",
    "#make a horizontal bar graph\n",
    "plt.barh(xPos, numbers, color=myColors)\n",
    "plt.yticks(xPos, cycle)"
   ]
  },
  {
   "cell_type": "code",
   "execution_count": null,
   "metadata": {
    "collapsed": true
   },
   "outputs": [],
   "source": []
  }
 ],
 "metadata": {
  "kernelspec": {
   "display_name": "Python 2",
   "language": "python",
   "name": "python2"
  },
  "language_info": {
   "codemirror_mode": {
    "name": "ipython",
    "version": 2
   },
   "file_extension": ".py",
   "mimetype": "text/x-python",
   "name": "python",
   "nbconvert_exporter": "python",
   "pygments_lexer": "ipython2",
   "version": "2.7.11"
  }
 },
 "nbformat": 4,
 "nbformat_minor": 0
}
